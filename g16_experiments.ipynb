{
 "cells": [
  {
   "cell_type": "code",
   "execution_count": 77,
   "id": "77935f2e-935b-4615-80f4-cdc18ec90759",
   "metadata": {},
   "outputs": [],
   "source": [
    "from pyspark.sql import SparkSession\n",
    "from pyspark.sql import functions as f\n",
    "from pyspark.ml.classification import LogisticRegression\n",
    "from pyspark.sql import SparkSession as spark\n",
    "from pyspark.ml.feature import VectorAssembler\n",
    "from pyspark.ml.linalg import Vectors\n",
    "from pyspark.ml.classification import LogisticRegression\n",
    "import numpy as np\n",
    "import matplotlib.pyplot as plt\n",
    "import time\n",
    "import re"
   ]
  },
  {
   "cell_type": "code",
   "execution_count": 9,
   "id": "5283dde7-a5b7-4302-ae89-1073c1f64bdc",
   "metadata": {},
   "outputs": [],
   "source": [
    "def runExperiment(inputUri, outputUri, appName, numCores):\n",
    "    # fixed memory size\n",
    "    sparkSession = SparkSession\\\n",
    "            .builder\\\n",
    "            .master('spark://192.168.2.25:7077') \\\n",
    "            .appName(appName)\\\n",
    "            .config('spark.dynamicAllocation.enabled', True)\\\n",
    "            .config('spark.dynamicAllocation.shuffleTracking.enabled',True)\\\n",
    "            .config('spark.shuffle.service.enabled', False)\\\n",
    "            .config('spark.dynamicAllocation.executorIdleTimeout','30s')\\\n",
    "            .config('spark.cores.max', numCores)\\\n",
    "            .config('spark.driver.port',9998)\\\n",
    "            .config('spark.blockManager.port',10005)\\\n",
    "            .config('spark.mongodb.input.uri', inputUri)\\\n",
    "            .config('spark.mongodb.output.uri', outputUri)\\\n",
    "            .config('spark.jars.packages','org.mongodb.spark:mongo-spark-connector_2.12:2.4.2')\\\n",
    "            .getOrCreate()\n",
    "    \n",
    "    t = time.time()\n",
    "    df = sparkSession.read.format('com.mongodb.spark.sql.DefaultSource').load()\n",
    "    df = df.select('_id','year','loudness','tempo','artist_hotttnesss','beats_confidence','duration','artist_latitude','artist_longitude','key_confidence')\n",
    "    df = df.withColumn('y_label', f.when(f.col('artist_hotttnesss') > 0.5, 1).otherwise(0))\n",
    "    features = ['year', 'loudness', 'tempo', 'duration', 'key_confidence']\n",
    "    label = 'y_label'\n",
    "\n",
    "    assembler = VectorAssembler()\\\n",
    "            .setInputCols(features)\\\n",
    "            .setOutputCol('vectorized_features')\n",
    "    df = assembler.transform(df)\n",
    "    train, test = df.randomSplit([0.7, 0.3], seed = 2018)\n",
    "    lr = LogisticRegression(featuresCol = 'vectorized_features', labelCol = 'y_label', maxIter=10)\n",
    "    lrModel = lr.fit(train)\n",
    "    d = time.time()\n",
    "    duration = d - t\n",
    "\n",
    "    sparkSession.stop()\n",
    "\n",
    "    return duration"
   ]
  },
  {
   "cell_type": "markdown",
   "id": "ab3ff57e-33a5-4b67-bd1c-bd1679ecf849",
   "metadata": {},
   "source": [
    "## Strong Scaling with 1.5 million data"
   ]
  },
  {
   "cell_type": "code",
   "execution_count": 80,
   "id": "de09ed11-0fe3-4936-a525-c0009a10e410",
   "metadata": {},
   "outputs": [],
   "source": [
    "numIterations = 10"
   ]
  },
  {
   "cell_type": "markdown",
   "id": "dac8e198-12e0-4cf7-9fe9-f4dd5fc70c7b",
   "metadata": {},
   "source": [
    "## 2 cores"
   ]
  },
  {
   "cell_type": "code",
   "execution_count": 10,
   "id": "7609ae3b-9ba7-476f-8af3-10c48f6f0cc4",
   "metadata": {},
   "outputs": [
    {
     "name": "stderr",
     "output_type": "stream",
     "text": [
      "22/03/19 15:10:15 WARN ExecutorAllocationManager: Dynamic allocation without a shuffle service is an experimental feature.\n",
      "22/03/19 15:10:53 WARN ExecutorAllocationManager: Dynamic allocation without a shuffle service is an experimental feature.\n",
      "                                                                                \r"
     ]
    },
    {
     "name": "stdout",
     "output_type": "stream",
     "text": [
      "[37.64454650878906, 21.657662391662598], Avg: 29.65110445022583\n"
     ]
    }
   ],
   "source": [
    "inputUri = 'mongodb://127.0.0.1/million_songs.songsOHalfM'\n",
    "outputUri = 'mongodb://127.0.0.1/million_songs.songsOHalfM'\n",
    "appName = '2 cores'\n",
    "numCores = 2\n",
    "\n",
    "resultsStrong2 = [runExperiment(inputUri, outputUri, appName, numCores) for i in range(numIterations)]\n",
    "avgStrong2 = np.mean(resultsStrong2)\n",
    "print(f'{resultsStrong2}, Avg: {avgStrong2}')"
   ]
  },
  {
   "cell_type": "markdown",
   "id": "9a2a1d1a-da7b-45f5-97aa-fac4c32d9e02",
   "metadata": {},
   "source": [
    "## 4 cores"
   ]
  },
  {
   "cell_type": "code",
   "execution_count": 11,
   "id": "0c900317-c47e-4a19-9f47-e28c108d1ae9",
   "metadata": {},
   "outputs": [
    {
     "name": "stderr",
     "output_type": "stream",
     "text": [
      "22/03/19 15:11:16 WARN ExecutorAllocationManager: Dynamic allocation without a shuffle service is an experimental feature.\n",
      "22/03/19 15:11:37 WARN ExecutorAllocationManager: Dynamic allocation without a shuffle service is an experimental feature.\n",
      "                                                                                \r"
     ]
    },
    {
     "name": "stdout",
     "output_type": "stream",
     "text": [
      "[21.180718421936035, 20.764941692352295], Avg: 20.972830057144165\n"
     ]
    }
   ],
   "source": [
    "input_uri_4c=\"mongodb://127.0.0.1/million_songs.songsOHalfM\"\n",
    "output_uri_4c=\"mongodb://127.0.0.1/million_songs.songsOHalfM\"\n",
    "appName = '4 cores'\n",
    "numCores = 4\n",
    "\n",
    "resultsStrong4 = [runExperiment(inputUri, outputUri, appName, numCores) for i in range(numIterations)]\n",
    "avgStrong4 = np.mean(resultsStrong4)\n",
    "print(f'{resultsStrong4}, Avg: {avgStrong4}')"
   ]
  },
  {
   "cell_type": "markdown",
   "id": "08b696bc-6746-4ab4-bc09-fc308b34c360",
   "metadata": {},
   "source": [
    "## 8 cores"
   ]
  },
  {
   "cell_type": "code",
   "execution_count": 12,
   "id": "4a2c3968-4f66-42a9-ade6-ec269ea5af44",
   "metadata": {},
   "outputs": [
    {
     "name": "stderr",
     "output_type": "stream",
     "text": [
      "22/03/19 15:11:59 WARN ExecutorAllocationManager: Dynamic allocation without a shuffle service is an experimental feature.\n",
      "22/03/19 15:12:25 WARN ExecutorAllocationManager: Dynamic allocation without a shuffle service is an experimental feature.\n",
      "                                                                                \r"
     ]
    },
    {
     "name": "stdout",
     "output_type": "stream",
     "text": [
      "[26.155293703079224, 26.0263991355896], Avg: 26.09084641933441\n"
     ]
    }
   ],
   "source": [
    "inputUri = 'mongodb://127.0.0.1/million_songs.songsOHalfM'\n",
    "outputUri = 'mongodb://127.0.0.1/million_songs.songsOHalfM'\n",
    "appName = '8 cores'\n",
    "numCores = 8\n",
    "\n",
    "resultsStrong8 = [runExperiment(inputUri, outputUri, appName, numCores) for i in range(numIterations)]\n",
    "avgStrong8 = np.mean(resultsStrong8)\n",
    "print(f'{resultsStrong8}, Avg: {avgStrong8}')"
   ]
  },
  {
   "cell_type": "markdown",
   "id": "c10dd758-5cc3-4d2d-8deb-a05809ace599",
   "metadata": {},
   "source": [
    "# 12 cores"
   ]
  },
  {
   "cell_type": "code",
   "execution_count": 13,
   "id": "61abf009-136a-49bb-9d31-04ff3a1d198f",
   "metadata": {},
   "outputs": [
    {
     "name": "stderr",
     "output_type": "stream",
     "text": [
      "22/03/19 15:12:52 WARN ExecutorAllocationManager: Dynamic allocation without a shuffle service is an experimental feature.\n",
      "22/03/19 15:13:21 WARN ExecutorAllocationManager: Dynamic allocation without a shuffle service is an experimental feature.\n",
      "                                                                                \r"
     ]
    },
    {
     "name": "stdout",
     "output_type": "stream",
     "text": [
      "[28.013116598129272, 27.005247831344604], Avg: 27.50918221473694\n"
     ]
    }
   ],
   "source": [
    "inputUri = 'mongodb://127.0.0.1/million_songs.songsOHalfM'\n",
    "outputUri = 'mongodb://127.0.0.1/million_songs.songsOHalfM'\n",
    "appName = '12 cores'\n",
    "numCores = 12\n",
    "\n",
    "resultsStrong12 = [runExperiment(inputUri, outputUri, appName, numCores) for i in range(numIterations)]\n",
    "avgStrong12 = np.mean(resultsStrong12)\n",
    "print(f'{resultsStrong12}, Avg: {avgStrong12}')"
   ]
  },
  {
   "cell_type": "markdown",
   "id": "95670934-99ae-4039-acfd-43a94cad3183",
   "metadata": {},
   "source": [
    "## 16 cores"
   ]
  },
  {
   "cell_type": "code",
   "execution_count": 68,
   "id": "8838cdc7-4f8d-4d13-a06a-c9def0cd4ac6",
   "metadata": {},
   "outputs": [
    {
     "name": "stderr",
     "output_type": "stream",
     "text": [
      "22/03/19 15:46:11 WARN ExecutorAllocationManager: Dynamic allocation without a shuffle service is an experimental feature.\n",
      "22/03/19 15:46:48 WARN ExecutorAllocationManager: Dynamic allocation without a shuffle service is an experimental feature.\n",
      "                                                                                \r"
     ]
    },
    {
     "name": "stdout",
     "output_type": "stream",
     "text": [
      "[36.45588970184326, 36.4659218788147], Avg: 36.46090579032898\n"
     ]
    }
   ],
   "source": [
    "inputUri = 'mongodb://127.0.0.1/million_songs.songsOHalfM'\n",
    "outputUri = 'mongodb://127.0.0.1/million_songs.songsOHalfM'\n",
    "appName = '16 cores'\n",
    "numCores = 16\n",
    "\n",
    "resultsStrong16 = [runExperiment(inputUri, outputUri, appName, numCores) for i in range(numIterations)]\n",
    "avgStrong16 = np.mean(resultsStrong16)\n",
    "print(f'{resultsStrong16}, Avg: {avgStrong16}')"
   ]
  },
  {
   "cell_type": "markdown",
   "id": "acc92500-990e-4440-9431-139bf80a95d5",
   "metadata": {},
   "source": [
    "## Results"
   ]
  },
  {
   "cell_type": "code",
   "execution_count": 81,
   "id": "c87c9126-34dd-4084-b377-3ea24d473f36",
   "metadata": {},
   "outputs": [
    {
     "data": {
      "image/png": "[encoded data removed]",
      "text/plain": [
       "<Figure size 1080x360 with 2 Axes>"
      ]
     },
     "metadata": {
      "needs_background": "light"
     },
     "output_type": "display_data"
    }
   ],
   "source": [
    "def printResults(results, labels, avgs, numIterations):\n",
    "    fig, (ax1, ax2) = plt.subplots(1, 2, figsize=(15,5))\n",
    "    fig.suptitle('Strong Scaling Results')\n",
    "    fig.tight_layout()\n",
    "    fig.subplots_adjust(left=None, bottom=None, right=None, top=None, wspace=0.2, hspace=0.3)\n",
    "\n",
    "    xAxis = [int(re.sub(\"[^0-9]\", \"\", cores)) for cores in labels]\n",
    "    yAxis = [avg for avg in avgs]\n",
    "\n",
    "    ax1.plot(xAxis,yAxis)\n",
    "    ax1.set_title('Average run time (s) for 10 iterations per experiment')\n",
    "    ax1.set_xticks(xAxis)\n",
    "    ax1.set_ylim(0,np.max(yAxis)+10)\n",
    "    ax1.set_xlabel('Number of cores')\n",
    "    ax1.set_ylabel('Average run time (s)')\n",
    "\n",
    "    xAxis = range(1,numIterations+1)\n",
    "\n",
    "    for i, result in enumerate(results):\n",
    "        ax2.plot(xAxis, result, label=labels[i])\n",
    "        \n",
    "    ax2.set_title('Run time (s) for each iterations per experiment')\n",
    "    ax2.set_xticks(xAxis)\n",
    "    ax2.set_ylim(0,np.max(yAxis)+10)\n",
    "    plt.legend(loc=\"upper right\")\n",
    "    ax2.set_xlabel('Iteration')\n",
    "    ax2.set_ylabel('Run time (s)')\n",
    "    \n",
    "    plt.show()\n",
    "    \n",
    "printResults([resultsStrong2, resultsStrong4, resultsStrong8, resultsStrong12, resultsStrong16],\n",
    "             ['2 cores', '4 cores', '8 cores', '12 cores', '16 cores'],\n",
    "             [avgStrong2, avgStrong4, avgStrong8, avgStrong12, avgStrong16], numIterations)"
   ]
  },
  {
   "cell_type": "markdown",
   "id": "db24770e-1686-4497-b61e-d15c7f303070",
   "metadata": {},
   "source": [
    "## Weak Scaling"
   ]
  },
  {
   "cell_type": "code",
   "execution_count": 82,
   "id": "ac072756-ede3-4d1e-8a99-c484b9af0414",
   "metadata": {},
   "outputs": [],
   "source": [
    "numIterations = 10"
   ]
  },
  {
   "cell_type": "markdown",
   "id": "fb34ade2-20e9-4b7a-a0ff-9a525252c4c0",
   "metadata": {},
   "source": [
    "## 250000 songs, 2 cores"
   ]
  },
  {
   "cell_type": "code",
   "execution_count": 72,
   "id": "5dc3eb46-4e1a-4f93-b71c-1d0a8a553df3",
   "metadata": {},
   "outputs": [
    {
     "name": "stderr",
     "output_type": "stream",
     "text": [
      "22/03/19 16:00:06 WARN ExecutorAllocationManager: Dynamic allocation without a shuffle service is an experimental feature.\n",
      "                                                                                \r"
     ]
    },
    {
     "name": "stdout",
     "output_type": "stream",
     "text": [
      "[18.497159481048584], Avg: 18.497159481048584\n"
     ]
    }
   ],
   "source": [
    "inputUri = 'mongodb://127.0.0.1/million_songs.songsQuarterM'\n",
    "outputUri = 'mongodb://127.0.0.1/million_songs.songsQuarterM'\n",
    "appName = '250000 data for 2 cores'\n",
    "numCores = 2\n",
    "\n",
    "resultsWeak2 = [runExperiment(inputUri, outputUri, appName, numCores) for i in range(numIterations)]\n",
    "avgWeak2 = np.mean(resultsWeak2)\n",
    "print(f'{resultsWeak2}, Avg: {avgWeak2}')"
   ]
  },
  {
   "cell_type": "markdown",
   "id": "49cdf9b2-3fb2-444b-8e50-d9aae8ef61d1",
   "metadata": {},
   "source": [
    "## 500000 songs, 4 cores"
   ]
  },
  {
   "cell_type": "code",
   "execution_count": 73,
   "id": "0886ad4a-fb10-479b-8685-3a523b91f0ce",
   "metadata": {},
   "outputs": [
    {
     "name": "stderr",
     "output_type": "stream",
     "text": [
      "22/03/19 16:00:26 WARN ExecutorAllocationManager: Dynamic allocation without a shuffle service is an experimental feature.\n",
      "                                                                                \r"
     ]
    },
    {
     "name": "stdout",
     "output_type": "stream",
     "text": [
      "[45.1025447845459], Avg: 45.1025447845459\n"
     ]
    }
   ],
   "source": [
    "inputUri = 'mongodb://127.0.0.1/million_songs.songsHalfM'\n",
    "outputUri = 'mongodb://127.0.0.1/million_songs.songsHalfM'\n",
    "appName = '500000 data for 4 cores'\n",
    "numCores = 4\n",
    "\n",
    "resultsWeak4 = [runExperiment(inputUri, outputUri, appName, numCores) for i in range(numIterations)]\n",
    "avgWeak4 = np.mean(resultsWeak4)\n",
    "print(f'{resultsWeak4}, Avg: {avgWeak4}')"
   ]
  },
  {
   "cell_type": "markdown",
   "id": "d2c8e5b7-6798-4242-92a9-96211bc9de67",
   "metadata": {},
   "source": [
    "## 100000 songs, 8 cores"
   ]
  },
  {
   "cell_type": "code",
   "execution_count": 74,
   "id": "e811d835-7893-4864-99b8-ec87a73eab98",
   "metadata": {},
   "outputs": [
    {
     "name": "stderr",
     "output_type": "stream",
     "text": [
      "22/03/19 16:01:11 WARN ExecutorAllocationManager: Dynamic allocation without a shuffle service is an experimental feature.\n",
      "                                                                                \r"
     ]
    },
    {
     "name": "stdout",
     "output_type": "stream",
     "text": [
      "[67.09422612190247], Avg: 67.09422612190247\n"
     ]
    }
   ],
   "source": [
    "inputUri = 'mongodb://127.0.0.1/million_songs.songsOneM'\n",
    "outputUri = 'mongodb://127.0.0.1/million_songs.songsOneM'\n",
    "appName = '1000000 data for 8 cores'\n",
    "numCores = 8\n",
    "\n",
    "resultsWeak8 = [runExperiment(inputUri, outputUri, appName, numCores) for i in range(numIterations)]\n",
    "avgWeak8 = np.mean(resultsWeak8)\n",
    "print(f'{resultsWeak8}, Avg: {avgWeak8}')"
   ]
  },
  {
   "cell_type": "markdown",
   "id": "8b152d7b-3f22-45a7-8727-81b8026401d7",
   "metadata": {},
   "source": [
    "## 500000 songs, 12 cores"
   ]
  },
  {
   "cell_type": "code",
   "execution_count": 75,
   "id": "1f159f52-38d7-4b38-867e-efcb3c3302eb",
   "metadata": {},
   "outputs": [
    {
     "name": "stderr",
     "output_type": "stream",
     "text": [
      "22/03/19 16:02:19 WARN ExecutorAllocationManager: Dynamic allocation without a shuffle service is an experimental feature.\n",
      "                                                                                \r"
     ]
    },
    {
     "name": "stdout",
     "output_type": "stream",
     "text": [
      "[42.84381461143494], Avg: 42.84381461143494\n"
     ]
    }
   ],
   "source": [
    "inputUri = 'mongodb://127.0.0.1/million_songs.songsOHalfM'\n",
    "outputUri = 'mongodb://127.0.0.1/million_songs.songsOHalfM'\n",
    "appName = '1500000 data for 12 cores'\n",
    "numCores = 12\n",
    "\n",
    "resultsWeak12 = [runExperiment(inputUri, outputUri, appName, numCores) for i in range(numIterations)]\n",
    "avgWeak12 = np.mean(resultsWeak12)\n",
    "print(f'{resultsWeak12}, Avg: {avgWeak12}')"
   ]
  },
  {
   "cell_type": "markdown",
   "id": "546c4e16-4982-4730-8468-bad50fbca1e9",
   "metadata": {},
   "source": [
    "## Results"
   ]
  },
  {
   "cell_type": "code",
   "execution_count": 89,
   "id": "20af28d2-f1c7-4a45-bf5d-fcb86cb4b26b",
   "metadata": {},
   "outputs": [
    {
     "data": {
      "image/png": "[encoded data removed]",
      "text/plain": [
       "<Figure size 1080x360 with 2 Axes>"
      ]
     },
     "metadata": {
      "needs_background": "light"
     },
     "output_type": "display_data"
    }
   ],
   "source": [
    "printResults([resultsWeak2, resultsWeak4, resultsWeak8, resultsWeak12],\n",
    "             ['2 cores', '4 cores', '8 cores', '12 cores'],\n",
    "             [avgWeak2, avgWeak4, avgWeak8, avgWeak12], numIterations)"
   ]
  },
  {
   "cell_type": "code",
   "execution_count": null,
   "id": "28d5c626-7bd9-4802-8bbf-ee7464335235",
   "metadata": {},
   "outputs": [],
   "source": []
  }
 ],
 "metadata": {
  "kernelspec": {
   "display_name": "Python 3 (ipykernel)",
   "language": "python",
   "name": "python3"
  },
  "language_info": {
   "codemirror_mode": {
    "name": "ipython",
    "version": 3
   },
   "file_extension": ".py",
   "mimetype": "text/x-python",
   "name": "python",
   "nbconvert_exporter": "python",
   "pygments_lexer": "ipython3",
   "version": "3.8.10"
  }
 },
 "nbformat": 4,
 "nbformat_minor": 5
}
