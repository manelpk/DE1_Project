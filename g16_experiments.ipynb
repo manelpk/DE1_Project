{
 "cells": [
  {
   "cell_type": "code",
   "execution_count": 6,
   "id": "77935f2e-935b-4615-80f4-cdc18ec90759",
   "metadata": {},
   "outputs": [],
   "source": [
    "from pyspark.sql import SparkSession\n",
    "from pyspark.sql import functions as f\n",
    "from pyspark.ml.classification import LogisticRegression\n",
    "from pyspark.sql import SparkSession as spark\n",
    "from pyspark.ml.feature import VectorAssembler\n",
    "from pyspark.ml.linalg import Vectors\n",
    "from pyspark.ml.classification import LogisticRegression\n",
    "import numpy as np\n",
    "from matplotlib import pyplot as plt\n",
    "import time"
   ]
  },
  {
   "cell_type": "code",
   "execution_count": 2,
   "id": "5283dde7-a5b7-4302-ae89-1073c1f64bdc",
   "metadata": {},
   "outputs": [],
   "source": [
    "def runExperiment(inputUri, outputUri, appName, numCores):\n",
    "    # fixed memory size\n",
    "    sparkSession = SparkSession\\\n",
    "            .builder\\\n",
    "            .master('spark://192.168.2.25:7077') \\\n",
    "            .appName(appName)\\\n",
    "            .config('spark.dynamicAllocation.enabled', True)\\\n",
    "            .config('spark.dynamicAllocation.shuffleTracking.enabled',True)\\\n",
    "            .config('spark.shuffle.service.enabled', False)\\\n",
    "            .config('spark.dynamicAllocation.executorIdleTimeout','30s')\\\n",
    "            .config('spark.cores.max', numCores)\\\n",
    "            .config('spark.driver.port',9998)\\\n",
    "            .config('spark.blockManager.port',10005)\\\n",
    "            .config('spark.mongodb.input.uri', inputUri)\\\n",
    "            .config('spark.mongodb.output.uri', outputUri)\\\n",
    "            .config('spark.jars.packages','org.mongodb.spark:mongo-spark-connector_2.12:2.4.2')\\\n",
    "            .getOrCreate()\n",
    "    \n",
    "    t = time.time()\n",
    "    df = sparkSession.read.format('com.mongodb.spark.sql.DefaultSource').load()\n",
    "    df = df.select('_id','year','loudness','tempo','artist_hotttnesss','beats_confidence','duration','artist_latitude','artist_longitude','key_confidence')\n",
    "    df = df.withColumn('y_label', f.when(f.col('artist_hotttnesss') > 0.5, 1).otherwise(0))\n",
    "    features = ['year', 'loudness', 'tempo', 'duration', 'key_confidence']\n",
    "    label = 'y_label'\n",
    "\n",
    "    assembler = VectorAssembler()\\\n",
    "            .setInputCols(features)\\\n",
    "            .setOutputCol('vectorized_features')\n",
    "    df = assembler.transform(df)\n",
    "    train, test = df.randomSplit([0.7, 0.3], seed = 2018)\n",
    "    lr = LogisticRegression(featuresCol = 'vectorized_features', labelCol = 'y_label', maxIter=10)\n",
    "    lrModel = lr.fit(train)\n",
    "    d = time.time()\n",
    "    duration = d - t\n",
    "\n",
    "    sparkSession.stop()\n",
    "\n",
    "    return duration"
   ]
  },
  {
   "cell_type": "markdown",
   "id": "ab3ff57e-33a5-4b67-bd1c-bd1679ecf849",
   "metadata": {},
   "source": [
    "## Strong Scaling with 1.5 million data"
   ]
  },
  {
   "cell_type": "markdown",
   "id": "dac8e198-12e0-4cf7-9fe9-f4dd5fc70c7b",
   "metadata": {},
   "source": [
    "## 2"
   ]
  },
  {
   "cell_type": "code",
   "execution_count": 3,
   "id": "7609ae3b-9ba7-476f-8af3-10c48f6f0cc4",
   "metadata": {},
   "outputs": [
    {
     "name": "stdout",
     "output_type": "stream",
     "text": [
      ":: loading settings :: url = jar:file:/usr/local/spark/jars/ivy-2.5.0.jar!/org/apache/ivy/core/settings/ivysettings.xml\n"
     ]
    },
    {
     "name": "stderr",
     "output_type": "stream",
     "text": [
      "Ivy Default Cache set to: /home/ubuntu/.ivy2/cache\n",
      "The jars for the packages stored in: /home/ubuntu/.ivy2/jars\n",
      "org.mongodb.spark#mongo-spark-connector_2.12 added as a dependency\n",
      ":: resolving dependencies :: org.apache.spark#spark-submit-parent-2061ec4b-90a3-42ad-bfff-3c29aa6e5b8b;1.0\n",
      "\tconfs: [default]\n",
      "\tfound org.mongodb.spark#mongo-spark-connector_2.12;2.4.2 in central\n",
      "\tfound org.mongodb#mongo-java-driver;3.12.5 in central\n",
      ":: resolution report :: resolve 340ms :: artifacts dl 7ms\n",
      "\t:: modules in use:\n",
      "\torg.mongodb#mongo-java-driver;3.12.5 from central in [default]\n",
      "\torg.mongodb.spark#mongo-spark-connector_2.12;2.4.2 from central in [default]\n",
      "\t---------------------------------------------------------------------\n",
      "\t|                  |            modules            ||   artifacts   |\n",
      "\t|       conf       | number| search|dwnlded|evicted|| number|dwnlded|\n",
      "\t---------------------------------------------------------------------\n",
      "\t|      default     |   2   |   0   |   0   |   0   ||   2   |   0   |\n",
      "\t---------------------------------------------------------------------\n",
      ":: retrieving :: org.apache.spark#spark-submit-parent-2061ec4b-90a3-42ad-bfff-3c29aa6e5b8b\n",
      "\tconfs: [default]\n",
      "\t0 artifacts copied, 2 already retrieved (0kB/7ms)\n",
      "22/03/19 14:22:35 WARN NativeCodeLoader: Unable to load native-hadoop library for your platform... using builtin-java classes where applicable\n",
      "Using Spark's default log4j profile: org/apache/spark/log4j-defaults.properties\n",
      "Setting default log level to \"WARN\".\n",
      "To adjust logging level use sc.setLogLevel(newLevel). For SparkR, use setLogLevel(newLevel).\n",
      "22/03/19 14:22:39 WARN ExecutorAllocationManager: Dynamic allocation without a shuffle service is an experimental feature.\n",
      "22/03/19 14:24:29 WARN ExecutorAllocationManager: Dynamic allocation without a shuffle service is an experimental feature.\n",
      "                                                                                \r"
     ]
    },
    {
     "name": "stdout",
     "output_type": "stream",
     "text": [
      "[107.92764258384705, 75.34484505653381]\n"
     ]
    }
   ],
   "source": [
    "inputUri = 'mongodb://127.0.0.1/million_songs.songsOHalfM'\n",
    "outputUri = 'mongodb://127.0.0.1/million_songs.songsOHalfM'\n",
    "appName = '2 cores'\n",
    "numCores = 2\n",
    "numIterations = 2\n",
    "\n",
    "results = [runExperiment(inputUri, outputUri, appName, numCores) for i in range(numIterations)]\n",
    "print(f'{results}, Avg: {np.mean(results)}')"
   ]
  },
  {
   "cell_type": "markdown",
   "id": "9a2a1d1a-da7b-45f5-97aa-fac4c32d9e02",
   "metadata": {},
   "source": [
    "## 4"
   ]
  },
  {
   "cell_type": "code",
   "execution_count": 4,
   "id": "0c900317-c47e-4a19-9f47-e28c108d1ae9",
   "metadata": {},
   "outputs": [
    {
     "name": "stderr",
     "output_type": "stream",
     "text": [
      "22/03/19 14:30:44 WARN ExecutorAllocationManager: Dynamic allocation without a shuffle service is an experimental feature.\n",
      "22/03/19 14:32:04 WARN ExecutorAllocationManager: Dynamic allocation without a shuffle service is an experimental feature.\n",
      "                                                                                \r"
     ]
    },
    {
     "ename": "NameError",
     "evalue": "name 'mean' is not defined",
     "output_type": "error",
     "traceback": [
      "\u001b[0;31m---------------------------------------------------------------------------\u001b[0m",
      "\u001b[0;31mNameError\u001b[0m                                 Traceback (most recent call last)",
      "Input \u001b[0;32mIn [4]\u001b[0m, in \u001b[0;36m<cell line: 8>\u001b[0;34m()\u001b[0m\n\u001b[1;32m      5\u001b[0m numIterations \u001b[38;5;241m=\u001b[39m \u001b[38;5;241m2\u001b[39m\n\u001b[1;32m      7\u001b[0m results \u001b[38;5;241m=\u001b[39m [runExperiment(inputUri, outputUri, appName, numCores) \u001b[38;5;28;01mfor\u001b[39;00m i \u001b[38;5;129;01min\u001b[39;00m \u001b[38;5;28mrange\u001b[39m(numIterations)]\n\u001b[0;32m----> 8\u001b[0m \u001b[38;5;28mprint\u001b[39m(\u001b[38;5;124mf\u001b[39m\u001b[38;5;124m'\u001b[39m\u001b[38;5;132;01m{\u001b[39;00mresults\u001b[38;5;132;01m}\u001b[39;00m\u001b[38;5;124m, Avg: \u001b[39m\u001b[38;5;132;01m{\u001b[39;00mmean(results)\u001b[38;5;132;01m}\u001b[39;00m\u001b[38;5;124m'\u001b[39m)\n",
      "\u001b[0;31mNameError\u001b[0m: name 'mean' is not defined"
     ]
    }
   ],
   "source": [
    "input_uri_4c=\"mongodb://127.0.0.1/million_songs.songsOHalfM\"\n",
    "output_uri_4c=\"mongodb://127.0.0.1/million_songs.songsOHalfM\"\n",
    "appName = '4 cores'\n",
    "numCores = 4\n",
    "numIterations = 2\n",
    "\n",
    "results = [runExperiment(inputUri, outputUri, appName, numCores) for i in range(numIterations)]\n",
    "print(f'{results}, Avg: {np.mean(results)}')"
   ]
  },
  {
   "cell_type": "markdown",
   "id": "08b696bc-6746-4ab4-bc09-fc308b34c360",
   "metadata": {},
   "source": [
    "## 8 "
   ]
  },
  {
   "cell_type": "code",
   "execution_count": null,
   "id": "4a2c3968-4f66-42a9-ade6-ec269ea5af44",
   "metadata": {},
   "outputs": [],
   "source": [
    "inputUri = 'mongodb://127.0.0.1/million_songs.songsOHalfM'\n",
    "outputUri = 'mongodb://127.0.0.1/million_songs.songsOHalfM'\n",
    "appName = '8 cores'\n",
    "numCores = 8\n",
    "numIterations = 2\n",
    "\n",
    "results = [runExperiment(inputUri, outputUri, appName, numCores) for i in range(numIterations)]\n",
    "print(f'{results}, Avg: {np.mean(results)}')"
   ]
  },
  {
   "cell_type": "markdown",
   "id": "c10dd758-5cc3-4d2d-8deb-a05809ace599",
   "metadata": {},
   "source": [
    "# 12"
   ]
  },
  {
   "cell_type": "code",
   "execution_count": 5,
   "id": "61abf009-136a-49bb-9d31-04ff3a1d198f",
   "metadata": {},
   "outputs": [
    {
     "name": "stderr",
     "output_type": "stream",
     "text": [
      "22/03/19 14:44:43 WARN ExecutorAllocationManager: Dynamic allocation without a shuffle service is an experimental feature.\n",
      "22/03/19 14:45:32 WARN ExecutorAllocationManager: Dynamic allocation without a shuffle service is an experimental feature.\n",
      "                                                                                \r"
     ]
    },
    {
     "ename": "NameError",
     "evalue": "name 'np' is not defined",
     "output_type": "error",
     "traceback": [
      "\u001b[0;31m---------------------------------------------------------------------------\u001b[0m",
      "\u001b[0;31mNameError\u001b[0m                                 Traceback (most recent call last)",
      "Input \u001b[0;32mIn [5]\u001b[0m, in \u001b[0;36m<cell line: 8>\u001b[0;34m()\u001b[0m\n\u001b[1;32m      5\u001b[0m numIterations \u001b[38;5;241m=\u001b[39m \u001b[38;5;241m2\u001b[39m\n\u001b[1;32m      7\u001b[0m results \u001b[38;5;241m=\u001b[39m [runExperiment(inputUri, outputUri, appName, numCores) \u001b[38;5;28;01mfor\u001b[39;00m i \u001b[38;5;129;01min\u001b[39;00m \u001b[38;5;28mrange\u001b[39m(numIterations)]\n\u001b[0;32m----> 8\u001b[0m \u001b[38;5;28mprint\u001b[39m(\u001b[38;5;124mf\u001b[39m\u001b[38;5;124m'\u001b[39m\u001b[38;5;132;01m{\u001b[39;00mresults\u001b[38;5;132;01m}\u001b[39;00m\u001b[38;5;124m, Avg: \u001b[39m\u001b[38;5;132;01m{\u001b[39;00mnp\u001b[38;5;241m.\u001b[39mmean(results)\u001b[38;5;132;01m}\u001b[39;00m\u001b[38;5;124m'\u001b[39m)\n",
      "\u001b[0;31mNameError\u001b[0m: name 'np' is not defined"
     ]
    }
   ],
   "source": [
    "inputUri = 'mongodb://127.0.0.1/million_songs.songsOHalfM'\n",
    "outputUri = 'mongodb://127.0.0.1/million_songs.songsOHalfM'\n",
    "appName = '12 cores'\n",
    "numCores = 12\n",
    "numIterations = 2\n",
    "\n",
    "results = [runExperiment(inputUri, outputUri, appName, numCores) for i in range(numIterations)]\n",
    "print(f'{results}, Avg: {np.mean(results)}')"
   ]
  },
  {
   "cell_type": "markdown",
   "id": "db24770e-1686-4497-b61e-d15c7f303070",
   "metadata": {},
   "source": [
    "## Weak Scaling"
   ]
  },
  {
   "cell_type": "markdown",
   "id": "fb34ade2-20e9-4b7a-a0ff-9a525252c4c0",
   "metadata": {},
   "source": [
    "## 250000 data for 2 cores"
   ]
  },
  {
   "cell_type": "code",
   "execution_count": null,
   "id": "5dc3eb46-4e1a-4f93-b71c-1d0a8a553df3",
   "metadata": {},
   "outputs": [],
   "source": [
    "inputUri = 'mongodb://127.0.0.1/million_songs.songsQuarterM'\n",
    "outputUri = 'mongodb://127.0.0.1/million_songs.songsQuarterM'\n",
    "appName = '250000 data for 2 cores'\n",
    "numCores = 2\n",
    "numIterations = 2\n",
    "\n",
    "results = [runExperiment(inputUri, outputUri, appName, numCores) for i in range(numIterations)]\n",
    "print(f'{results}, Avg: {np.mean(results)}')"
   ]
  },
  {
   "cell_type": "markdown",
   "id": "49cdf9b2-3fb2-444b-8e50-d9aae8ef61d1",
   "metadata": {},
   "source": [
    "## 500000 data for 4 cores"
   ]
  },
  {
   "cell_type": "code",
   "execution_count": null,
   "id": "0886ad4a-fb10-479b-8685-3a523b91f0ce",
   "metadata": {},
   "outputs": [],
   "source": [
    "inputUri = 'mongodb://127.0.0.1/million_songs.songsHalfM'\n",
    "outputUri = 'mongodb://127.0.0.1/million_songs.songsHalfM'\n",
    "appName = '500000 data for 4 cores'\n",
    "numCores = 4\n",
    "numIterations = 2\n",
    "\n",
    "results = [runExperiment(inputUri, outputUri, appName, numCores) for i in range(numIterations)]\n",
    "print(f'{results}, Avg: {np.mean(results)}')"
   ]
  },
  {
   "cell_type": "markdown",
   "id": "d2c8e5b7-6798-4242-92a9-96211bc9de67",
   "metadata": {},
   "source": [
    "## 1000000 data for 8 cores"
   ]
  },
  {
   "cell_type": "code",
   "execution_count": null,
   "id": "e811d835-7893-4864-99b8-ec87a73eab98",
   "metadata": {},
   "outputs": [],
   "source": [
    "inputUri = 'mongodb://127.0.0.1/million_songs.songsOneM'\n",
    "outputUri = 'mongodb://127.0.0.1/million_songs.songsOneM'\n",
    "appName = '1000000 data for 8 cores'\n",
    "numCores = 8\n",
    "numIterations = 2\n",
    "\n",
    "results = [runExperiment(inputUri, outputUri, appName, numCores) for i in range(numIterations)]\n",
    "print(f'{results}, Avg: {np.mean(results)}')"
   ]
  },
  {
   "cell_type": "markdown",
   "id": "8b152d7b-3f22-45a7-8727-81b8026401d7",
   "metadata": {},
   "source": [
    "## 500000 data for 12 cores"
   ]
  },
  {
   "cell_type": "code",
   "execution_count": null,
   "id": "1f159f52-38d7-4b38-867e-efcb3c3302eb",
   "metadata": {},
   "outputs": [],
   "source": [
    "inputUri = 'mongodb://127.0.0.1/million_songs.songsOHalfM'\n",
    "outputUri = 'mongodb://127.0.0.1/million_songs.songsOHalfM'\n",
    "appName = '1500000 data for 12 cores'\n",
    "numCores = 12\n",
    "numIterations = 2\n",
    "\n",
    "results = [runExperiment(inputUri, outputUri, appName, numCores) for i in range(numIterations)]\n",
    "print(f'{results}, Avg: {np.mean(results)}')"
   ]
  },
  {
   "cell_type": "markdown",
   "id": "39897609-d0c1-4de8-bb04-104bbb645850",
   "metadata": {},
   "source": [
    "## 3 workers with 8 cores"
   ]
  },
  {
   "cell_type": "code",
   "execution_count": null,
   "id": "d67f3e92-e01b-46a2-8d5c-f39b4b61e166",
   "metadata": {},
   "outputs": [],
   "source": []
  },
  {
   "cell_type": "code",
   "execution_count": null,
   "id": "20af28d2-f1c7-4a45-bf5d-fcb86cb4b26b",
   "metadata": {},
   "outputs": [],
   "source": []
  }
 ],
 "metadata": {
  "kernelspec": {
   "display_name": "Python 3 (ipykernel)",
   "language": "python",
   "name": "python3"
  },
  "language_info": {
   "codemirror_mode": {
    "name": "ipython",
    "version": 3
   },
   "file_extension": ".py",
   "mimetype": "text/x-python",
   "name": "python",
   "nbconvert_exporter": "python",
   "pygments_lexer": "ipython3",
   "version": "3.8.10"
  }
 },
 "nbformat": 4,
 "nbformat_minor": 5
}
