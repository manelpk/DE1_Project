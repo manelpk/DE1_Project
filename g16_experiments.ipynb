{
 "cells": [
  {
   "cell_type": "code",
   "execution_count": 1,
   "id": "77935f2e-935b-4615-80f4-cdc18ec90759",
   "metadata": {},
   "outputs": [],
   "source": [
    "from pyspark.sql import SparkSession\n",
    "from pyspark.sql import functions as f\n",
    "from pyspark.ml.classification import LogisticRegression\n",
    "from pyspark.sql import SparkSession as spark\n",
    "from pyspark.ml.feature import VectorAssembler\n",
    "from pyspark.ml.linalg import Vectors\n",
    "from pyspark.ml.classification import LogisticRegression\n",
    "import numpy as np\n",
    "import matplotlib.pyplot as plt\n",
    "import time\n",
    "import re"
   ]
  },
  {
   "cell_type": "code",
   "execution_count": 2,
   "id": "5283dde7-a5b7-4302-ae89-1073c1f64bdc",
   "metadata": {},
   "outputs": [],
   "source": [
    "def runExperiment(inputUri, outputUri, appName, numCores):\n",
    "    # fixed memory size\n",
    "    sparkSession = SparkSession\\\n",
    "            .builder\\\n",
    "            .master('spark://192.168.2.25:7077') \\\n",
    "            .appName(appName)\\\n",
    "            .config(\"spark.executor.cores\", 2)\\\n",
    "            .config(\"spark.executor.memory\", \"2g\")\\\n",
    "            .config(\"spark.executor.instances\", 8)\\\n",
    "            .config('spark.shuffle.service.enabled', False)\\\n",
    "            .config('spark.dynamicAllocation.executorIdleTimeout','30s')\\\n",
    "            .config('spark.cores.max', numCores)\\\n",
    "            .config('spark.driver.port',9998)\\\n",
    "            .config('spark.blockManager.port',10005)\\\n",
    "            .config('spark.mongodb.input.uri', inputUri)\\\n",
    "            .config('spark.mongodb.output.uri', outputUri)\\\n",
    "            .config('spark.jars.packages','org.mongodb.spark:mongo-spark-connector_2.12:2.4.2')\\\n",
    "            .getOrCreate()\n",
    "            # .config('spark.dynamicAllocation.enabled', True)\\\n",
    "            # .config('spark.dynamicAllocation.shuffleTracking.enabled',True)\\    \n",
    "    t = time.time()\n",
    "    df = sparkSession.read.format('com.mongodb.spark.sql.DefaultSource').load()\n",
    "    df = df.select('_id','year','loudness','tempo','artist_hotttnesss','beats_confidence','duration','artist_latitude','artist_longitude','key_confidence')\n",
    "    df = df.withColumn('y_label', f.when(f.col('artist_hotttnesss') > 0.5, 1).otherwise(0))\n",
    "    features = ['year', 'loudness', 'tempo', 'duration', 'key_confidence']\n",
    "    label = 'y_label'\n",
    "\n",
    "    assembler = VectorAssembler()\\\n",
    "            .setInputCols(features)\\\n",
    "            .setOutputCol('vectorized_features')\n",
    "    df = assembler.transform(df)\n",
    "    train, test = df.randomSplit([0.7, 0.3], seed = 2018)\n",
    "    lr = LogisticRegression(featuresCol = 'vectorized_features', labelCol = 'y_label', maxIter=10)\n",
    "    lrModel = lr.fit(train)\n",
    "    d = time.time()\n",
    "    duration = d - t\n",
    "\n",
    "    sparkSession.stop()\n",
    "\n",
    "    return duration"
   ]
  },
  {
   "cell_type": "markdown",
   "id": "ab3ff57e-33a5-4b67-bd1c-bd1679ecf849",
   "metadata": {},
   "source": [
    "## Strong Scaling with 1.5 million data"
   ]
  },
  {
   "cell_type": "code",
   "execution_count": 10,
   "id": "de09ed11-0fe3-4936-a525-c0009a10e410",
   "metadata": {},
   "outputs": [],
   "source": [
    "numIterations = 10"
   ]
  },
  {
   "cell_type": "markdown",
   "id": "dac8e198-12e0-4cf7-9fe9-f4dd5fc70c7b",
   "metadata": {},
   "source": [
    "## 2 cores"
   ]
  },
  {
   "cell_type": "code",
   "execution_count": 4,
   "id": "7609ae3b-9ba7-476f-8af3-10c48f6f0cc4",
   "metadata": {},
   "outputs": [
    {
     "name": "stdout",
     "output_type": "stream",
     "text": [
      ":: loading settings :: url = jar:file:/usr/local/spark/jars/ivy-2.5.0.jar!/org/apache/ivy/core/settings/ivysettings.xml\n"
     ]
    },
    {
     "name": "stderr",
     "output_type": "stream",
     "text": [
      "Ivy Default Cache set to: /home/ubuntu/.ivy2/cache\n",
      "The jars for the packages stored in: /home/ubuntu/.ivy2/jars\n",
      "org.mongodb.spark#mongo-spark-connector_2.12 added as a dependency\n",
      ":: resolving dependencies :: org.apache.spark#spark-submit-parent-cd630774-b1cd-4b1e-bd6c-b18663bbc3ea;1.0\n",
      "\tconfs: [default]\n",
      "\tfound org.mongodb.spark#mongo-spark-connector_2.12;2.4.2 in central\n",
      "\tfound org.mongodb#mongo-java-driver;3.12.5 in central\n",
      ":: resolution report :: resolve 290ms :: artifacts dl 7ms\n",
      "\t:: modules in use:\n",
      "\torg.mongodb#mongo-java-driver;3.12.5 from central in [default]\n",
      "\torg.mongodb.spark#mongo-spark-connector_2.12;2.4.2 from central in [default]\n",
      "\t---------------------------------------------------------------------\n",
      "\t|                  |            modules            ||   artifacts   |\n",
      "\t|       conf       | number| search|dwnlded|evicted|| number|dwnlded|\n",
      "\t---------------------------------------------------------------------\n",
      "\t|      default     |   2   |   0   |   0   |   0   ||   2   |   0   |\n",
      "\t---------------------------------------------------------------------\n",
      ":: retrieving :: org.apache.spark#spark-submit-parent-cd630774-b1cd-4b1e-bd6c-b18663bbc3ea\n",
      "\tconfs: [default]\n",
      "\t0 artifacts copied, 2 already retrieved (0kB/6ms)\n",
      "22/03/19 21:05:59 WARN NativeCodeLoader: Unable to load native-hadoop library for your platform... using builtin-java classes where applicable\n",
      "Using Spark's default log4j profile: org/apache/spark/log4j-defaults.properties\n",
      "Setting default log level to \"WARN\".\n",
      "To adjust logging level use sc.setLogLevel(newLevel). For SparkR, use setLogLevel(newLevel).\n",
      "                                                                                \r"
     ]
    },
    {
     "name": "stdout",
     "output_type": "stream",
     "text": [
      "[54.12780952453613, 54.30810499191284, 51.01313614845276, 51.12658333778381, 50.83088135719299, 49.678338289260864, 49.3385534286499, 46.9016318321228, 48.48854422569275, 50.77112889289856], Avg: 50.65847120285034\n"
     ]
    }
   ],
   "source": [
    "inputUri = 'mongodb://127.0.0.1/million_songs.songsOHalfM'\n",
    "outputUri = 'mongodb://127.0.0.1/million_songs.songsOHalfM'\n",
    "appName = '2 cores'\n",
    "numCores = 2\n",
    "\n",
    "resultsStrong2 = [runExperiment(inputUri, outputUri, appName, numCores) for i in range(numIterations)]\n",
    "avgStrong2 = np.mean(resultsStrong2)\n",
    "print(f'{resultsStrong2}, Avg: {avgStrong2}')"
   ]
  },
  {
   "cell_type": "markdown",
   "id": "9a2a1d1a-da7b-45f5-97aa-fac4c32d9e02",
   "metadata": {},
   "source": [
    "## 4 cores"
   ]
  },
  {
   "cell_type": "code",
   "execution_count": 11,
   "id": "0c900317-c47e-4a19-9f47-e28c108d1ae9",
   "metadata": {},
   "outputs": [
    {
     "name": "stderr",
     "output_type": "stream",
     "text": [
      "                                                                                \r"
     ]
    },
    {
     "name": "stdout",
     "output_type": "stream",
     "text": [
      "[40.64188194274902, 45.636130571365356, 41.60646057128906, 39.98821496963501, 42.637221574783325, 40.0330810546875, 42.77509570121765, 45.410189628601074, 41.83036136627197, 42.19762206077576], Avg: 42.27562594413757\n"
     ]
    }
   ],
   "source": [
    "input_uri_4c=\"mongodb://127.0.0.1/million_songs.songsOHalfM\"\n",
    "output_uri_4c=\"mongodb://127.0.0.1/million_songs.songsOHalfM\"\n",
    "appName = '4 cores'\n",
    "numCores = 4\n",
    "\n",
    "resultsStrong4 = [runExperiment(inputUri, outputUri, appName, numCores) for i in range(numIterations)]\n",
    "avgStrong4 = np.mean(resultsStrong4)\n",
    "print(f'{resultsStrong4}, Avg: {avgStrong4}')"
   ]
  },
  {
   "cell_type": "markdown",
   "id": "08b696bc-6746-4ab4-bc09-fc308b34c360",
   "metadata": {},
   "source": [
    "## 8 cores"
   ]
  },
  {
   "cell_type": "code",
   "execution_count": 5,
   "id": "4a2c3968-4f66-42a9-ade6-ec269ea5af44",
   "metadata": {},
   "outputs": [
    {
     "name": "stderr",
     "output_type": "stream",
     "text": [
      "                                                                                \r"
     ]
    },
    {
     "name": "stdout",
     "output_type": "stream",
     "text": [
      "[23.055397748947144, 25.69982671737671, 23.370848178863525, 24.628153085708618, 24.438987970352173, 24.025280237197876, 23.78170394897461, 24.343316316604614, 23.182403326034546, 23.501858472824097], Avg: 24.00277760028839\n"
     ]
    }
   ],
   "source": [
    "inputUri = 'mongodb://127.0.0.1/million_songs.songsOHalfM'\n",
    "outputUri = 'mongodb://127.0.0.1/million_songs.songsOHalfM'\n",
    "appName = '8 cores'\n",
    "numCores = 8\n",
    "\n",
    "resultsStrong8 = [runExperiment(inputUri, outputUri, appName, numCores) for i in range(numIterations)]\n",
    "avgStrong8 = np.mean(resultsStrong8)\n",
    "print(f'{resultsStrong8}, Avg: {avgStrong8}')"
   ]
  },
  {
   "cell_type": "markdown",
   "id": "c10dd758-5cc3-4d2d-8deb-a05809ace599",
   "metadata": {},
   "source": [
    "## 12 cores"
   ]
  },
  {
   "cell_type": "code",
   "execution_count": 6,
   "id": "61abf009-136a-49bb-9d31-04ff3a1d198f",
   "metadata": {},
   "outputs": [
    {
     "name": "stderr",
     "output_type": "stream",
     "text": [
      "                                                                                \r"
     ]
    },
    {
     "name": "stdout",
     "output_type": "stream",
     "text": [
      "[23.433969497680664, 24.37294030189514, 24.26874804496765, 21.08976435661316, 24.488106727600098, 23.192458629608154, 22.91324520111084, 25.277400970458984, 23.605341911315918, 22.447609663009644], Avg: 23.508958530426025\n"
     ]
    }
   ],
   "source": [
    "inputUri = 'mongodb://127.0.0.1/million_songs.songsOHalfM'\n",
    "outputUri = 'mongodb://127.0.0.1/million_songs.songsOHalfM'\n",
    "appName = '12 cores'\n",
    "numCores = 12\n",
    "\n",
    "resultsStrong12 = [runExperiment(inputUri, outputUri, appName, numCores) for i in range(numIterations)]\n",
    "avgStrong12 = np.mean(resultsStrong12)\n",
    "print(f'{resultsStrong12}, Avg: {avgStrong12}')"
   ]
  },
  {
   "cell_type": "markdown",
   "id": "95670934-99ae-4039-acfd-43a94cad3183",
   "metadata": {},
   "source": [
    "## 16 cores"
   ]
  },
  {
   "cell_type": "code",
   "execution_count": 7,
   "id": "8838cdc7-4f8d-4d13-a06a-c9def0cd4ac6",
   "metadata": {},
   "outputs": [
    {
     "name": "stderr",
     "output_type": "stream",
     "text": [
      "                                                                                \r"
     ]
    },
    {
     "name": "stdout",
     "output_type": "stream",
     "text": [
      "[26.460996866226196], Avg: 26.460996866226196\n"
     ]
    }
   ],
   "source": [
    "inputUri = 'mongodb://127.0.0.1/million_songs.songsOHalfM'\n",
    "outputUri = 'mongodb://127.0.0.1/million_songs.songsOHalfM'\n",
    "appName = '16 cores'\n",
    "numCores = 16\n",
    "numIterations = 1\n",
    "\n",
    "resultsStrong16 = [runExperiment(inputUri, outputUri, appName, numCores) for i in range(numIterations)]\n",
    "avgStrong16 = np.mean(resultsStrong16)\n",
    "print(f'{resultsStrong16}, Avg: {avgStrong16}')"
   ]
  },
  {
   "cell_type": "markdown",
   "id": "acc92500-990e-4440-9431-139bf80a95d5",
   "metadata": {},
   "source": [
    "## Results"
   ]
  },
  {
   "cell_type": "code",
   "execution_count": 13,
   "id": "c87c9126-34dd-4084-b377-3ea24d473f36",
   "metadata": {},
   "outputs": [
    {
     "data": {
      "image/png": "[encoded data removed]",
      "text/plain": [
       "<Figure size 1080x360 with 2 Axes>"
      ]
     },
     "metadata": {
      "needs_background": "light"
     },
     "output_type": "display_data"
    }
   ],
   "source": [
    "def printResults(results, labels, avgs, numIterations):\n",
    "    fig, (ax1, ax2) = plt.subplots(1, 2, figsize=(15,5))\n",
    "    fig.suptitle('Strong Scaling Results')\n",
    "    fig.tight_layout()\n",
    "    fig.subplots_adjust(left=None, bottom=None, right=None, top=None, wspace=0.2, hspace=0.3)\n",
    "\n",
    "    xAxis = [int(re.sub(\"[^0-9]\", \"\", cores)) for cores in labels]\n",
    "    yAxis = [avg for avg in avgs]\n",
    "\n",
    "    ax1.plot(xAxis,yAxis)\n",
    "    ax1.set_title('Average run time (s) for 10 iterations per experiment')\n",
    "    ax1.set_xticks(xAxis)\n",
    "    ax1.set_ylim(0,np.max(yAxis)+10)\n",
    "    ax1.set_xlabel('Number of cores')\n",
    "    ax1.set_ylabel('Average run time (s)')\n",
    "\n",
    "    xAxis = range(1,numIterations+1)\n",
    "\n",
    "    for i, result in enumerate(results):\n",
    "        ax2.plot(xAxis, result, label=labels[i])\n",
    "        \n",
    "    ax2.set_title('Run time (s) for each iterations per experiment')\n",
    "    ax2.set_xticks(xAxis)\n",
    "    ax2.set_ylim(0,np.max(yAxis)+10)\n",
    "    plt.legend(loc=\"upper right\")\n",
    "    ax2.set_xlabel('Iteration')\n",
    "    ax2.set_ylabel('Run time (s)')\n",
    "    \n",
    "    plt.show()\n",
    "    \n",
    "printResults([resultsStrong2, resultsStrong4, resultsStrong8, resultsStrong12],\n",
    "             ['2 cores', '4 cores', '8 cores', '12 cores', '16 cores'],\n",
    "             [avgStrong2, avgStrong4, avgStrong8, avgStrong12, avgStrong16], numIterations)"
   ]
  },
  {
   "cell_type": "markdown",
   "id": "0e809bf8-95c8-4a92-997e-5be37ed2cf3c",
   "metadata": {},
   "source": [
    "# I separate the reading part and calculation part in “g16_experiments-Copy1.ipynb”, the error is gone, and if you compare with the reading time, it basically doesn't change no matter how many cores"
   ]
  },
  {
   "cell_type": "markdown",
   "id": "db24770e-1686-4497-b61e-d15c7f303070",
   "metadata": {},
   "source": [
    "## Weak Scaling"
   ]
  },
  {
   "cell_type": "code",
   "execution_count": 14,
   "id": "ac072756-ede3-4d1e-8a99-c484b9af0414",
   "metadata": {},
   "outputs": [],
   "source": [
    "numIterations = 10"
   ]
  },
  {
   "cell_type": "markdown",
   "id": "fb34ade2-20e9-4b7a-a0ff-9a525252c4c0",
   "metadata": {},
   "source": [
    "## 250000 songs, 2 cores"
   ]
  },
  {
   "cell_type": "code",
   "execution_count": 15,
   "id": "5dc3eb46-4e1a-4f93-b71c-1d0a8a553df3",
   "metadata": {},
   "outputs": [
    {
     "name": "stderr",
     "output_type": "stream",
     "text": [
      "                                                                                \r"
     ]
    },
    {
     "name": "stdout",
     "output_type": "stream",
     "text": [
      "[37.336228132247925, 18.96622133255005, 17.498624563217163, 16.493058919906616, 17.046579599380493, 18.074819803237915, 19.301040410995483, 18.15777325630188, 16.798214435577393, 18.04022765159607], Avg: 19.771278810501098\n"
     ]
    }
   ],
   "source": [
    "inputUri = 'mongodb://127.0.0.1/million_songs.songsQuarterM'\n",
    "outputUri = 'mongodb://127.0.0.1/million_songs.songsQuarterM'\n",
    "appName = '250000 data for 2 cores'\n",
    "numCores = 2\n",
    "\n",
    "resultsWeak2 = [runExperiment(inputUri, outputUri, appName, numCores) for i in range(numIterations)]\n",
    "avgWeak2 = np.mean(resultsWeak2)\n",
    "print(f'{resultsWeak2}, Avg: {avgWeak2}')"
   ]
  },
  {
   "cell_type": "markdown",
   "id": "49cdf9b2-3fb2-444b-8e50-d9aae8ef61d1",
   "metadata": {},
   "source": [
    "## 500000 songs, 4 cores"
   ]
  },
  {
   "cell_type": "code",
   "execution_count": 16,
   "id": "0886ad4a-fb10-479b-8685-3a523b91f0ce",
   "metadata": {},
   "outputs": [
    {
     "name": "stderr",
     "output_type": "stream",
     "text": [
      "22/03/19 21:47:29 WARN BlockManager: Asked to remove block broadcast_18, which does not exist\n",
      "22/03/19 21:50:17 WARN NioEventLoop: Selector.select() returned prematurely 512 times in a row; rebuilding Selector io.netty.channel.nio.SelectedSelectionKeySetSelector@bbbed12.\n",
      "22/03/19 21:50:17 WARN NioEventLoop: Selector.select() returned prematurely 512 times in a row; rebuilding Selector io.netty.channel.nio.SelectedSelectionKeySetSelector@3be8d8e6.\n",
      "                                                                                \r"
     ]
    },
    {
     "name": "stdout",
     "output_type": "stream",
     "text": [
      "[54.44793701171875, 27.234177112579346, 23.626288652420044, 23.36302947998047, 22.312450885772705, 23.992677211761475, 23.699826955795288, 23.597098112106323, 22.43218183517456, 22.38236665725708], Avg: 26.708803391456605\n"
     ]
    }
   ],
   "source": [
    "inputUri = 'mongodb://127.0.0.1/million_songs.songsHalfM'\n",
    "outputUri = 'mongodb://127.0.0.1/million_songs.songsHalfM'\n",
    "appName = '500000 data for 4 cores'\n",
    "numCores = 4\n",
    "\n",
    "resultsWeak4 = [runExperiment(inputUri, outputUri, appName, numCores) for i in range(numIterations)]\n",
    "avgWeak4 = np.mean(resultsWeak4)\n",
    "print(f'{resultsWeak4}, Avg: {avgWeak4}')"
   ]
  },
  {
   "cell_type": "markdown",
   "id": "d2c8e5b7-6798-4242-92a9-96211bc9de67",
   "metadata": {},
   "source": [
    "## 1000000 songs, 8 cores"
   ]
  },
  {
   "cell_type": "code",
   "execution_count": 18,
   "id": "e811d835-7893-4864-99b8-ec87a73eab98",
   "metadata": {},
   "outputs": [
    {
     "name": "stderr",
     "output_type": "stream",
     "text": [
      "                                                                                \r"
     ]
    },
    {
     "name": "stdout",
     "output_type": "stream",
     "text": [
      "[28.477569580078125, 25.189229488372803, 25.636915922164917, 28.330768585205078, 31.201080083847046, 29.99726963043213, 30.308520555496216, 24.341835260391235, 30.495498180389404, 25.448400497436523], Avg: 27.94270877838135\n"
     ]
    }
   ],
   "source": [
    "inputUri = 'mongodb://127.0.0.1/million_songs.songsOneM'\n",
    "outputUri = 'mongodb://127.0.0.1/million_songs.songsOneM'\n",
    "appName = '1000000 data for 8 cores'\n",
    "numCores = 8\n",
    "\n",
    "resultsWeak8 = [runExperiment(inputUri, outputUri, appName, numCores) for i in range(numIterations)]\n",
    "avgWeak8 = np.mean(resultsWeak8)\n",
    "print(f'{resultsWeak8}, Avg: {avgWeak8}')"
   ]
  },
  {
   "cell_type": "markdown",
   "id": "8b152d7b-3f22-45a7-8727-81b8026401d7",
   "metadata": {},
   "source": [
    "## 1500000 songs, 12 cores"
   ]
  },
  {
   "cell_type": "code",
   "execution_count": 20,
   "id": "1f159f52-38d7-4b38-867e-efcb3c3302eb",
   "metadata": {},
   "outputs": [
    {
     "name": "stderr",
     "output_type": "stream",
     "text": [
      "                                                                                \r"
     ]
    },
    {
     "name": "stdout",
     "output_type": "stream",
     "text": [
      "[25.6029634475708, 25.25237774848938, 25.01112198829651, 23.043833255767822, 25.40808606147766, 23.762166738510132, 25.217485904693604, 24.340126514434814, 20.939072847366333, 23.33346915245056], Avg: 24.191070365905762\n"
     ]
    }
   ],
   "source": [
    "inputUri = 'mongodb://127.0.0.1/million_songs.songsOHalfM'\n",
    "outputUri = 'mongodb://127.0.0.1/million_songs.songsOHalfM'\n",
    "appName = '1500000 data for 12 cores'\n",
    "numCores = 12\n",
    "\n",
    "resultsWeak12 = [runExperiment(inputUri, outputUri, appName, numCores) for i in range(numIterations)]\n",
    "avgWeak12 = np.mean(resultsWeak12)\n",
    "print(f'{resultsWeak12}, Avg: {avgWeak12}')"
   ]
  },
  {
   "cell_type": "markdown",
   "id": "546c4e16-4982-4730-8468-bad50fbca1e9",
   "metadata": {},
   "source": [
    "## Results"
   ]
  },
  {
   "cell_type": "code",
   "execution_count": 21,
   "id": "20af28d2-f1c7-4a45-bf5d-fcb86cb4b26b",
   "metadata": {},
   "outputs": [
    {
     "data": {
      "image/png": "[encoded data removed]",
      "text/plain": [
       "<Figure size 1080x360 with 2 Axes>"
      ]
     },
     "metadata": {
      "needs_background": "light"
     },
     "output_type": "display_data"
    }
   ],
   "source": [
    "printResults([resultsWeak2, resultsWeak4, resultsWeak8, resultsWeak12],\n",
    "             ['2 cores', '4 cores', '8 cores', '12 cores'],\n",
    "             [avgWeak2, avgWeak4, avgWeak8, avgWeak12], numIterations)"
   ]
  },
  {
   "cell_type": "markdown",
   "id": "a19fc2ac-6f91-49ea-baa3-a03f0158d8a3",
   "metadata": {},
   "source": [
    "## Horizontal scaling with 1.5 million data"
   ]
  },
  {
   "cell_type": "markdown",
   "id": "f6a71c18-003a-4a92-aa76-2fd4fe768a7c",
   "metadata": {},
   "source": [
    "## 4 workers "
   ]
  },
  {
   "cell_type": "code",
   "execution_count": 24,
   "id": "cca41fc6-2356-4342-a530-cf75369b529f",
   "metadata": {},
   "outputs": [
    {
     "name": "stderr",
     "output_type": "stream",
     "text": [
      "                                                                                \r"
     ]
    },
    {
     "name": "stdout",
     "output_type": "stream",
     "text": [
      "24.89060139656067\n"
     ]
    }
   ],
   "source": [
    "inputUri = 'mongodb://127.0.0.1/million_songs.songsOHalfM'\n",
    "outputUri = 'mongodb://127.0.0.1/million_songs.songsOHalfM'\n",
    "appName = '1500000 data for 4 workers'\n",
    "numCores = 12\n",
    "resultsWeak12 = runExperiment(inputUri, outputUri, appName, numCores)\n",
    "print(f'{resultsWeak12}')"
   ]
  },
  {
   "cell_type": "markdown",
   "id": "7012e580-a4cc-4c0a-9f8a-aae6d6a11b6a",
   "metadata": {},
   "source": [
    "## 5 workers"
   ]
  },
  {
   "cell_type": "code",
   "execution_count": null,
   "id": "2eba082f-60df-47c9-85e6-6663785eca00",
   "metadata": {},
   "outputs": [],
   "source": []
  },
  {
   "cell_type": "code",
   "execution_count": null,
   "id": "d4767ed3-4473-4981-8ba1-cc352db007f4",
   "metadata": {},
   "outputs": [],
   "source": []
  },
  {
   "cell_type": "code",
   "execution_count": null,
   "id": "6908638d-c6ef-4982-b8bf-5e5fba7b3f37",
   "metadata": {},
   "outputs": [],
   "source": []
  },
  {
   "cell_type": "markdown",
   "id": "960990b0-bc50-4c5a-971b-00fc2566294e",
   "metadata": {},
   "source": [
    "## 6 workers"
   ]
  },
  {
   "cell_type": "code",
   "execution_count": null,
   "id": "9979c19a-82e0-47c3-9adc-2ab0fedeb2be",
   "metadata": {},
   "outputs": [],
   "source": []
  },
  {
   "cell_type": "code",
   "execution_count": null,
   "id": "9d139cd4-39ce-414e-8afc-be4346d49ef2",
   "metadata": {},
   "outputs": [],
   "source": []
  },
  {
   "cell_type": "code",
   "execution_count": null,
   "id": "4e770d9c-81c5-4fcc-a15e-1dea8beb57ff",
   "metadata": {},
   "outputs": [],
   "source": []
  }
 ],
 "metadata": {
  "kernelspec": {
   "display_name": "Python 3 (ipykernel)",
   "language": "python",
   "name": "python3"
  },
  "language_info": {
   "codemirror_mode": {
    "name": "ipython",
    "version": 3
   },
   "file_extension": ".py",
   "mimetype": "text/x-python",
   "name": "python",
   "nbconvert_exporter": "python",
   "pygments_lexer": "ipython3",
   "version": "3.8.10"
  }
 },
 "nbformat": 4,
 "nbformat_minor": 5
}
