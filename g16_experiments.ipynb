{
 "cells": [
  {
   "cell_type": "markdown",
   "id": "d73e49ef-f238-48bb-8bba-35e68c9c37df",
   "metadata": {},
   "source": [
    "# Weak and strong scaling experiments \n",
    "\n",
    "In this notebook we perform weak and strong scaling experiemnts on the million songs dataset"
   ]
  },
  {
   "cell_type": "code",
   "execution_count": 2,
   "id": "77935f2e-935b-4615-80f4-cdc18ec90759",
   "metadata": {},
   "outputs": [],
   "source": [
    "from pyspark.sql import SparkSession\n",
    "from pyspark.sql import functions as f\n",
    "from pyspark.ml.classification import LogisticRegression\n",
    "from pyspark.sql import SparkSession as spark\n",
    "from pyspark.ml.feature import VectorAssembler\n",
    "from pyspark.ml.linalg import Vectors\n",
    "from pyspark.ml.classification import LogisticRegression\n",
    "import numpy as np\n",
    "import matplotlib.pyplot as plt\n",
    "import time\n",
    "import re"
   ]
  },
  {
   "cell_type": "code",
   "execution_count": 8,
   "id": "3e73ef82-1cf5-431f-8fcd-497dc8e62bc7",
   "metadata": {},
   "outputs": [],
   "source": [
    "def runExperiment(inputUri, outputUri, appName, numCores, perCores=2,):\n",
    "    # fixed memory size\n",
    "    sparkSession = SparkSession\\\n",
    "            .builder\\\n",
    "            .master('spark://192.168.2.25:7077') \\\n",
    "            .appName(appName)\\\n",
    "            .config(\"spark.executor.cores\", 2)\\\n",
    "            .config(\"spark.executor.memory\", \"2g\")\\\n",
    "            .config(\"spark.executor.instances\", 8)\\\n",
    "            .config('spark.shuffle.service.enabled', False)\\\n",
    "            .config('spark.dynamicAllocation.executorIdleTimeout','30s')\\\n",
    "            .config('spark.cores.max', numCores)\\\n",
    "            .config('spark.driver.port',9998)\\\n",
    "            .config('spark.blockManager.port',10005)\\\n",
    "            .config('spark.mongodb.input.uri', inputUri)\\\n",
    "            .config('spark.mongodb.output.uri', outputUri)\\\n",
    "            .config('spark.jars.packages','org.mongodb.spark:mongo-spark-connector_2.12:2.4.2')\\\n",
    "            .getOrCreate()\n",
    "            # .config('spark.dynamicAllocation.enabled', True)\\\n",
    "            # .config('spark.dynamicAllocation.shuffleTracking.enabled',True)\\    \n",
    "    maxR = 0        \n",
    "    for x in range(0, 10):\n",
    "        t = time.time()\n",
    "        df = sparkSession.read.format('com.mongodb.spark.sql.DefaultSource').load()\n",
    "        d = time.time()\n",
    "        read_time = d-t\n",
    "        if maxR < read_time:\n",
    "            maxR = read_time\n",
    "        try:\n",
    "            dfTest = df.select('_id','year','loudness','tempo','artist_hotttnesss','beats_confidence','duration','artist_latitude','artist_longitude','key_confidence')\n",
    "            return [df, sparkSession, maxR]     \n",
    "        except:\n",
    "            str_error = True\n",
    "            if str_error:\n",
    "                time.sleep(2)\n",
    "            else:\n",
    "                break"
   ]
  },
  {
   "cell_type": "code",
   "execution_count": 15,
   "id": "d7d98659-8d1e-4bbe-8462-28e48307a6b8",
   "metadata": {},
   "outputs": [],
   "source": [
    "def calculation(df, sparkSession):\n",
    "    t = time.time()\n",
    "    df = df.select('_id','year','loudness','tempo','artist_hotttnesss','beats_confidence','duration','artist_latitude','artist_longitude','key_confidence')\n",
    "    df = df.withColumn('y_label', f.when(f.col('artist_hotttnesss') > 0.5, 1).otherwise(0))\n",
    "    features = ['year', 'loudness', 'tempo', 'duration', 'key_confidence']\n",
    "    label = 'y_label'\n",
    "\n",
    "    assembler = VectorAssembler()\\\n",
    "        .setInputCols(features)\\\n",
    "        .setOutputCol('vectorized_features')\n",
    "    df = assembler.transform(df)\n",
    "    train, test = df.randomSplit([0.7, 0.3], seed = 2018)\n",
    "    lr = LogisticRegression(featuresCol = 'vectorized_features', labelCol = 'y_label', maxIter=10)\n",
    "    lrModel = lr.fit(train)\n",
    "    sparkSession.stop()\n",
    "    d = time.time()\n",
    "    duration = d - t\n",
    "    return duration"
   ]
  },
  {
   "cell_type": "code",
   "execution_count": 38,
   "id": "5a38dd6d-0455-4537-a560-2f5d3664c9e3",
   "metadata": {},
   "outputs": [],
   "source": [
    "def printResults(results, labels, avgs, numIterations, title, xLable):\n",
    "    fig, (ax1, ax2) = plt.subplots(1, 2, figsize=(15,5))\n",
    "    fig.suptitle(title)\n",
    "    fig.tight_layout()\n",
    "    fig.subplots_adjust(left=None, bottom=None, right=None, top=None, wspace=0.2, hspace=0.3)\n",
    "\n",
    "    xAxis = [int(re.sub(\"[^0-9]\", \"\", cores)) for cores in labels]\n",
    "    yAxis = [avg for avg in avgs]\n",
    "\n",
    "    ax1.plot(xAxis,yAxis)\n",
    "    ax1.set_title('Average run time (s) for 10 iterations per experiment')\n",
    "    ax1.set_xticks(xAxis)\n",
    "    ax1.set_ylim(0,np.max(yAxis)+10)\n",
    "    ax1.set_xlabel(xLable)\n",
    "    ax1.set_ylabel('Average run time (s)')\n",
    "\n",
    "    xAxis = range(1,numIterations+1)\n",
    "\n",
    "    for i, result in enumerate(results):\n",
    "        ax2.plot(xAxis, result, label=labels[i])\n",
    "        \n",
    "    ax2.set_title('Run time (s) for each iterations per experiment')\n",
    "    ax2.set_xticks(xAxis)\n",
    "    ax2.set_ylim(0,np.max(yAxis)+10)\n",
    "    plt.legend(loc=\"upper right\")\n",
    "    ax2.set_xlabel('Iteration')\n",
    "    ax2.set_ylabel('Run time (s)')\n",
    "    \n",
    "    plt.show()\n",
    "    "
   ]
  },
  {
   "cell_type": "markdown",
   "id": "ab3ff57e-33a5-4b67-bd1c-bd1679ecf849",
   "metadata": {},
   "source": [
    "# Strong Scaling with 1.5 million data"
   ]
  },
  {
   "cell_type": "code",
   "execution_count": 25,
   "id": "de09ed11-0fe3-4936-a525-c0009a10e410",
   "metadata": {},
   "outputs": [],
   "source": [
    "numIterations = 10"
   ]
  },
  {
   "cell_type": "markdown",
   "id": "dac8e198-12e0-4cf7-9fe9-f4dd5fc70c7b",
   "metadata": {},
   "source": [
    "### 2 cores"
   ]
  },
  {
   "cell_type": "code",
   "execution_count": 26,
   "id": "7609ae3b-9ba7-476f-8af3-10c48f6f0cc4",
   "metadata": {},
   "outputs": [
    {
     "name": "stderr",
     "output_type": "stream",
     "text": [
      "                                                                                \r"
     ]
    },
    {
     "name": "stdout",
     "output_type": "stream",
     "text": [
      "[42.39041209220886, 45.670395851135254, 47.57003402709961, 45.324599504470825, 47.027427196502686, 42.514750719070435, 44.45056915283203, 45.642637968063354, 43.56487059593201, 41.07587432861328], Avg: 44.52315714359283, read: [5.569045782089233, 5.324380874633789, 5.4126386642456055, 5.663748025894165, 5.45369553565979, 5.474059820175171, 5.542708873748779, 5.349505662918091, 5.432183027267456, 5.4185731410980225], AvgRead:5.46405394077301\n"
     ]
    }
   ],
   "source": [
    "inputUri = 'mongodb://127.0.0.1/million_songs.songsOHalfM'\n",
    "outputUri = 'mongodb://127.0.0.1/million_songs.songsOHalfM'\n",
    "appName = '2 cores'\n",
    "numCores = 2\n",
    "\n",
    "resultsStrong2 = []\n",
    "readTime2 = []\n",
    "\n",
    "for i in range(numIterations):\n",
    "    ls = runExperiment(inputUri, outputUri, appName, numCores)\n",
    "    d = calculation(ls[0], ls[1])\n",
    "    resultsStrong2.append(d)\n",
    "    readTime2.append(ls[2])\n",
    "avgStrong2 = np.mean(resultsStrong2)\n",
    "avgRead2 = np.mean(readTime2)\n",
    "print(f'{resultsStrong2}, Avg: {avgStrong2}, read: {readTime2}, AvgRead:{avgRead2}')"
   ]
  },
  {
   "cell_type": "markdown",
   "id": "9a2a1d1a-da7b-45f5-97aa-fac4c32d9e02",
   "metadata": {},
   "source": [
    "### 4 cores"
   ]
  },
  {
   "cell_type": "code",
   "execution_count": 28,
   "id": "0c900317-c47e-4a19-9f47-e28c108d1ae9",
   "metadata": {},
   "outputs": [
    {
     "name": "stderr",
     "output_type": "stream",
     "text": [
      "                                                                                \r"
     ]
    },
    {
     "name": "stdout",
     "output_type": "stream",
     "text": [
      "[39.03291940689087, 37.00385332107544, 37.51628351211548, 32.068809270858765, 39.12580156326294, 40.607038736343384, 37.07480525970459, 36.61434602737427, 36.963688135147095, 39.44295954704285], Avg: 37.54505047798157, read: [5.445424556732178, 5.467613935470581, 5.471087694168091, 5.419313192367554, 5.377054929733276, 5.364708423614502, 5.401869773864746, 5.862964630126953, 5.523578643798828, 5.532857894897461], AvgRead:5.486647367477417\n"
     ]
    }
   ],
   "source": [
    "inputUri = 'mongodb://127.0.0.1/million_songs.songsOHalfM'\n",
    "outputUri = 'mongodb://127.0.0.1/million_songs.songsOHalfM'\n",
    "appName = '4 cores'\n",
    "numCores = 4\n",
    "\n",
    "resultsStrong4 = []\n",
    "readTime4 = []\n",
    "\n",
    "for i in range(numIterations):\n",
    "    ls = runExperiment(inputUri, outputUri, appName, numCores)\n",
    "    d = calculation(ls[0], ls[1])\n",
    "    resultsStrong4.append(d)\n",
    "    readTime4.append(ls[2])\n",
    "avgStrong4 = np.mean(resultsStrong4)\n",
    "avgRead4 = np.mean(readTime4)\n",
    "print(f'{resultsStrong4}, Avg: {avgStrong4}, read: {readTime4}, AvgRead:{avgRead4}')"
   ]
  },
  {
   "cell_type": "markdown",
   "id": "08b696bc-6746-4ab4-bc09-fc308b34c360",
   "metadata": {},
   "source": [
    "### 8 cores"
   ]
  },
  {
   "cell_type": "code",
   "execution_count": 29,
   "id": "4a2c3968-4f66-42a9-ade6-ec269ea5af44",
   "metadata": {},
   "outputs": [
    {
     "name": "stderr",
     "output_type": "stream",
     "text": [
      "                                                                                \r"
     ]
    },
    {
     "name": "stdout",
     "output_type": "stream",
     "text": [
      "[20.465531826019287, 19.553548097610474, 19.46295976638794, 17.55888032913208, 18.11235237121582, 19.625362873077393, 19.031458139419556, 17.606324195861816, 18.10027027130127, 17.52506947517395], Avg: 18.704175734519957, read: [5.467485189437866, 5.401735067367554, 5.495960712432861, 5.405186653137207, 5.342035293579102, 5.34757399559021, 5.41585636138916, 5.34704065322876, 5.359673023223877, 5.432665824890137], AvgRead:5.4015212774276735\n"
     ]
    }
   ],
   "source": [
    "inputUri = 'mongodb://127.0.0.1/million_songs.songsOHalfM'\n",
    "outputUri = 'mongodb://127.0.0.1/million_songs.songsOHalfM'\n",
    "appName = '8 cores'\n",
    "numCores = 8\n",
    "\n",
    "resultsStrong8 = []\n",
    "readTime8 = []\n",
    "\n",
    "for i in range(numIterations):\n",
    "    ls = runExperiment(inputUri, outputUri, appName, numCores)\n",
    "    d = calculation(ls[0], ls[1])\n",
    "    resultsStrong8.append(d)\n",
    "    readTime8.append(ls[2])\n",
    "avgStrong8 = np.mean(resultsStrong8)\n",
    "avgRead8 = np.mean(readTime8)\n",
    "print(f'{resultsStrong8}, Avg: {avgStrong8}, read: {readTime8}, AvgRead:{avgRead8}')"
   ]
  },
  {
   "cell_type": "markdown",
   "id": "c10dd758-5cc3-4d2d-8deb-a05809ace599",
   "metadata": {},
   "source": [
    "### 12 cores"
   ]
  },
  {
   "cell_type": "code",
   "execution_count": 30,
   "id": "61abf009-136a-49bb-9d31-04ff3a1d198f",
   "metadata": {},
   "outputs": [
    {
     "name": "stderr",
     "output_type": "stream",
     "text": [
      "                                                                                \r"
     ]
    },
    {
     "name": "stdout",
     "output_type": "stream",
     "text": [
      "[20.04455327987671, 18.09826397895813, 18.945250034332275, 17.100141525268555, 19.112107753753662, 17.448698043823242, 20.567668199539185, 18.0887930393219, 19.420681476593018, 18.108078718185425], Avg: 18.69342360496521, read: [5.410864591598511, 5.361187934875488, 5.473623752593994, 5.354761362075806, 5.348747491836548, 5.517810583114624, 5.389926433563232, 5.35463809967041, 5.5358240604400635, 5.344064712524414], AvgRead:5.409144902229309\n"
     ]
    }
   ],
   "source": [
    "inputUri = 'mongodb://127.0.0.1/million_songs.songsOHalfM'\n",
    "outputUri = 'mongodb://127.0.0.1/million_songs.songsOHalfM'\n",
    "appName = '12 cores'\n",
    "numCores = 12\n",
    "\n",
    "resultsStrong12 = []\n",
    "readTime12 = []\n",
    "\n",
    "for i in range(numIterations):\n",
    "    ls = runExperiment(inputUri, outputUri, appName, numCores)\n",
    "    d = calculation(ls[0], ls[1])\n",
    "    resultsStrong12.append(d)\n",
    "    readTime12.append(ls[2])\n",
    "avgStrong12 = np.mean(resultsStrong12)\n",
    "avgRead12 = np.mean(readTime12)\n",
    "print(f'{resultsStrong12}, Avg: {avgStrong12}, read: {readTime12}, AvgRead:{avgRead12}')"
   ]
  },
  {
   "cell_type": "markdown",
   "id": "95670934-99ae-4039-acfd-43a94cad3183",
   "metadata": {},
   "source": [
    "### 16 cores"
   ]
  },
  {
   "cell_type": "code",
   "execution_count": 31,
   "id": "8838cdc7-4f8d-4d13-a06a-c9def0cd4ac6",
   "metadata": {},
   "outputs": [
    {
     "name": "stderr",
     "output_type": "stream",
     "text": [
      "                                                                                \r"
     ]
    },
    {
     "name": "stdout",
     "output_type": "stream",
     "text": [
      "[23.589093685150146, 20.307337999343872, 20.974509477615356, 22.6089026927948, 23.29285478591919, 23.629055976867676, 22.56933331489563, 24.393645763397217, 21.126171588897705, 23.181216955184937], Avg: 22.567212224006653, read: [5.041904926300049, 5.647277593612671, 5.973412990570068, 5.156405448913574, 5.1388468742370605, 5.103012561798096, 5.1967551708221436, 5.357166528701782, 5.121126413345337, 5.04721999168396], AvgRead:5.278312849998474\n"
     ]
    }
   ],
   "source": [
    "inputUri = 'mongodb://127.0.0.1/million_songs.songsOHalfM'\n",
    "outputUri = 'mongodb://127.0.0.1/million_songs.songsOHalfM'\n",
    "appName = '16 cores'\n",
    "numCores = 16\n",
    "\n",
    "resultsStrong16 = []\n",
    "readTime16 = []\n",
    "\n",
    "for i in range(numIterations):\n",
    "    ls = runExperiment(inputUri, outputUri, appName, numCores)\n",
    "    d = calculation(ls[0], ls[1])\n",
    "    resultsStrong16.append(d)\n",
    "    readTime16.append(ls[2])\n",
    "avgStrong16 = np.mean(resultsStrong16)\n",
    "avgRead16 = np.mean(readTime16)\n",
    "print(f'{resultsStrong16}, Avg: {avgStrong16}, read: {readTime16}, AvgRead:{avgRead16}')"
   ]
  },
  {
   "cell_type": "markdown",
   "id": "d8f53b18-7b3f-4638-be08-f0191078fe4d",
   "metadata": {},
   "source": [
    "### Print results from all experiments"
   ]
  },
  {
   "cell_type": "code",
   "execution_count": 32,
   "id": "28f115f6-373f-449e-8ced-35e6957eb955",
   "metadata": {},
   "outputs": [
    {
     "data": {
      "image/png": "[encoded data removed]",
      "text/plain": [
       "<Figure size 1080x360 with 2 Axes>"
      ]
     },
     "metadata": {
      "needs_background": "light"
     },
     "output_type": "display_data"
    }
   ],
   "source": [
    "printResults([resultsStrong2, resultsStrong4, resultsStrong8, resultsStrong12, resultsStrong16],\n",
    "             ['2 cores', '4 cores', '8 cores', '12 cores', '16 cores'],\n",
    "             [avgStrong2, avgStrong4, avgStrong8, avgStrong12, avgStrong16], numIterations, \"Strong Scaling Results\",\"Number of cores\")"
   ]
  },
  {
   "cell_type": "markdown",
   "id": "db24770e-1686-4497-b61e-d15c7f303070",
   "metadata": {
    "tags": []
   },
   "source": [
    "# Weak Scaling"
   ]
  },
  {
   "cell_type": "code",
   "execution_count": 5,
   "id": "ac072756-ede3-4d1e-8a99-c484b9af0414",
   "metadata": {},
   "outputs": [],
   "source": [
    "numIterations = 10"
   ]
  },
  {
   "cell_type": "markdown",
   "id": "fb34ade2-20e9-4b7a-a0ff-9a525252c4c0",
   "metadata": {},
   "source": [
    "### 250000 songs, 2 cores"
   ]
  },
  {
   "cell_type": "code",
   "execution_count": 12,
   "id": "5dc3eb46-4e1a-4f93-b71c-1d0a8a553df3",
   "metadata": {},
   "outputs": [
    {
     "name": "stderr",
     "output_type": "stream",
     "text": [
      "                                                                                \r"
     ]
    },
    {
     "name": "stdout",
     "output_type": "stream",
     "text": [
      "[16.86281418800354, 11.94393515586853, 12.01013970375061, 14.364813566207886, 13.590304613113403, 13.304442405700684, 13.84395694732666, 14.8650963306427, 13.980656385421753, 12.545405626296997], Avg: 13.731156492233277, read: [5.597989797592163, 5.505635499954224, 5.425630331039429, 5.591029167175293, 5.36031699180603, 5.658090114593506, 5.607220649719238, 5.6023876667022705, 5.471487998962402, 5.407009840011597], AvgRead:5.522679805755615\n"
     ]
    }
   ],
   "source": [
    "inputUri = 'mongodb://127.0.0.1/million_songs.songsQuarterM'\n",
    "outputUri = 'mongodb://127.0.0.1/million_songs.songsQuarterM'\n",
    "appName = '250000 data for 2 cores'\n",
    "numCores = 2\n",
    "\n",
    "resultsWeak2 = []\n",
    "readTime2 = []\n",
    "\n",
    "for i in range(numIterations):\n",
    "    ls = runExperiment(inputUri, outputUri, appName, numCores)\n",
    "    d = calculation(ls[0], ls[1])\n",
    "    resultsWeak2.append(d)\n",
    "    readTime2.append(ls[2])\n",
    "avgWeak2 = np.mean(resultsWeak2)\n",
    "avgRead2 = np.mean(readTime2)\n",
    "print(f'{resultsWeak2}, Avg: {avgWeak2}, read: {readTime2}, AvgRead:{avgRead2}')"
   ]
  },
  {
   "cell_type": "markdown",
   "id": "49cdf9b2-3fb2-444b-8e50-d9aae8ef61d1",
   "metadata": {},
   "source": [
    "### 500000 songs, 4 cores"
   ]
  },
  {
   "cell_type": "code",
   "execution_count": 13,
   "id": "0886ad4a-fb10-479b-8685-3a523b91f0ce",
   "metadata": {},
   "outputs": [
    {
     "name": "stderr",
     "output_type": "stream",
     "text": [
      "                                                                                \r"
     ]
    },
    {
     "name": "stdout",
     "output_type": "stream",
     "text": [
      "[22.777233362197876, 17.318232536315918, 16.779757261276245, 15.25444221496582, 17.82337999343872, 18.910868406295776, 18.38833713531494, 17.997560739517212, 16.825274229049683, 18.447253465652466], Avg: 18.052233934402466, read: [5.683746814727783, 5.646724224090576, 5.6820878982543945, 5.691142797470093, 5.638810634613037, 5.554732799530029, 5.570666313171387, 5.4597132205963135, 5.6360390186309814, 5.51181173324585], AvgRead:5.607547545433045\n"
     ]
    }
   ],
   "source": [
    "inputUri = 'mongodb://127.0.0.1/million_songs.songsHalfM'\n",
    "outputUri = 'mongodb://127.0.0.1/million_songs.songsHalfM'\n",
    "appName = '500000 data for 4 cores'\n",
    "numCores = 4\n",
    "\n",
    "resultsWeak4 = []\n",
    "readTime4 = []\n",
    "\n",
    "for i in range(numIterations):\n",
    "    ls = runExperiment(inputUri, outputUri, appName, numCores)\n",
    "    d = calculation(ls[0], ls[1])\n",
    "    resultsWeak4.append(d)\n",
    "    readTime4.append(ls[2])\n",
    "avgWeak4 = np.mean(resultsWeak4)\n",
    "avgRead4 = np.mean(readTime4)\n",
    "print(f'{resultsWeak4}, Avg: {avgWeak4}, read: {readTime4}, AvgRead:{avgRead4}')"
   ]
  },
  {
   "cell_type": "markdown",
   "id": "d2c8e5b7-6798-4242-92a9-96211bc9de67",
   "metadata": {},
   "source": [
    "### 1000000 songs, 8 cores"
   ]
  },
  {
   "cell_type": "code",
   "execution_count": 14,
   "id": "e811d835-7893-4864-99b8-ec87a73eab98",
   "metadata": {},
   "outputs": [
    {
     "name": "stderr",
     "output_type": "stream",
     "text": [
      "                                                                                \r"
     ]
    },
    {
     "name": "stdout",
     "output_type": "stream",
     "text": [
      "[25.795995712280273, 20.835158824920654, 21.881702184677124, 21.414695501327515, 18.951730728149414, 20.980191707611084, 19.433016300201416, 22.39866852760315, 18.837317943572998, 21.367242097854614], Avg: 21.189571952819826, read: [9.168370246887207, 5.6322619915008545, 5.567492961883545, 5.556224346160889, 5.513872385025024, 5.448964595794678, 5.513646364212036, 5.557996034622192, 5.632232189178467, 5.59250283241272], AvgRead:5.918356394767761\n"
     ]
    }
   ],
   "source": [
    "inputUri = 'mongodb://127.0.0.1/million_songs.songsOneM'\n",
    "outputUri = 'mongodb://127.0.0.1/million_songs.songsOneM'\n",
    "appName = '1000000 data for 8 cores'\n",
    "numCores = 8\n",
    "\n",
    "resultsWeak8 = []\n",
    "readTime8 = []\n",
    "\n",
    "for i in range(numIterations):\n",
    "    ls = runExperiment(inputUri, outputUri, appName, numCores)\n",
    "    d = calculation(ls[0], ls[1])\n",
    "    resultsWeak8.append(d)\n",
    "    readTime8.append(ls[2])\n",
    "avgWeak8 = np.mean(resultsWeak8)\n",
    "avgRead8 = np.mean(readTime8)\n",
    "print(f'{resultsWeak8}, Avg: {avgWeak8}, read: {readTime8}, AvgRead:{avgRead8}')"
   ]
  },
  {
   "cell_type": "markdown",
   "id": "8b152d7b-3f22-45a7-8727-81b8026401d7",
   "metadata": {},
   "source": [
    "### 1500000 songs, 12 cores"
   ]
  },
  {
   "cell_type": "code",
   "execution_count": 15,
   "id": "1f159f52-38d7-4b38-867e-efcb3c3302eb",
   "metadata": {},
   "outputs": [
    {
     "name": "stderr",
     "output_type": "stream",
     "text": [
      "22/03/20 07:40:32 WARN NioEventLoop: Selector.select() returned prematurely 512 times in a row; rebuilding Selector io.netty.channel.nio.SelectedSelectionKeySetSelector@600444d8.\n",
      "                                                                                \r"
     ]
    },
    {
     "name": "stdout",
     "output_type": "stream",
     "text": [
      "[21.77092719078064, 20.623175859451294, 20.041709661483765, 20.65014958381653, 22.086599826812744, 19.00388813018799, 17.82561492919922, 16.987247467041016, 23.046247005462646, 17.583856105804443], Avg: 19.96194157600403, read: [9.190235137939453, 5.338489532470703, 5.414072275161743, 5.31352686882019, 5.382806062698364, 5.457095146179199, 6.126831293106079, 5.473518371582031, 5.3966991901397705, 5.367822885513306], AvgRead:5.846109676361084\n"
     ]
    }
   ],
   "source": [
    "inputUri = 'mongodb://127.0.0.1/million_songs.songsOHalfM'\n",
    "outputUri = 'mongodb://127.0.0.1/million_songs.songsOHalfM'\n",
    "appName = '1500000 data for 12 cores'\n",
    "numCores = 12\n",
    "\n",
    "resultsWeak12 = []\n",
    "readTime12 = []\n",
    "\n",
    "for i in range(numIterations):\n",
    "    ls = runExperiment(inputUri, outputUri, appName, numCores)\n",
    "    d = calculation(ls[0], ls[1])\n",
    "    resultsWeak12.append(d)\n",
    "    readTime12.append(ls[2])\n",
    "avgWeak12 = np.mean(resultsWeak12)\n",
    "avgRead12 = np.mean(readTime12)\n",
    "print(f'{resultsWeak12}, Avg: {avgWeak12}, read: {readTime12}, AvgRead:{avgRead12}')"
   ]
  },
  {
   "cell_type": "markdown",
   "id": "546c4e16-4982-4730-8468-bad50fbca1e9",
   "metadata": {},
   "source": [
    "### Results"
   ]
  },
  {
   "cell_type": "code",
   "execution_count": 35,
   "id": "20af28d2-f1c7-4a45-bf5d-fcb86cb4b26b",
   "metadata": {},
   "outputs": [
    {
     "data": {
      "image/png": "[encoded data removed]",
      "text/plain": [
       "<Figure size 1080x360 with 2 Axes>"
      ]
     },
     "metadata": {
      "needs_background": "light"
     },
     "output_type": "display_data"
    }
   ],
   "source": [
    "resultsWeak2 = [16.86281418800354, 11.94393515586853, 12.01013970375061, 14.364813566207886, 13.590304613113403, 13.304442405700684, 13.84395694732666, 14.8650963306427, 13.980656385421753, 12.545405626296997]\n",
    "avgWeak2 = 13.731156492233277\n",
    "resultsWeak4 = [22.777233362197876, 17.318232536315918, 16.779757261276245, 15.25444221496582, 17.82337999343872, 18.910868406295776, 18.38833713531494, 17.997560739517212, 16.825274229049683, 18.447253465652466]\n",
    "avgWeak4 = 18.052233934402466\n",
    "resultsWeak8 = [25.795995712280273, 20.835158824920654, 21.881702184677124, 21.414695501327515, 18.951730728149414, 20.980191707611084, 19.433016300201416, 22.39866852760315, 18.837317943572998, 21.367242097854614]\n",
    "avgWeak8 = 21.189571952819826\n",
    "resultsWeak12 = [21.77092719078064, 20.623175859451294, 20.041709661483765, 20.65014958381653, 22.086599826812744, 19.00388813018799, 17.82561492919922, 16.987247467041016, 23.046247005462646, 17.583856105804443]\n",
    "avgWeak12 = 19.96194157600403\n",
    "\n",
    "printResults([resultsWeak2, resultsWeak4, resultsWeak8, resultsWeak12],\n",
    "             ['2 cores', '4 cores', '8 cores', '12 cores'],\n",
    "             [avgWeak2, avgWeak4, avgWeak8, avgWeak12], numIterations, \"Weak Scaling Results\", \"Number of cores\")"
   ]
  },
  {
   "cell_type": "markdown",
   "id": "16656556-d58e-4c4f-b36e-4891c665b13e",
   "metadata": {},
   "source": [
    "# Horizontal scaling"
   ]
  },
  {
   "cell_type": "code",
   "execution_count": 6,
   "id": "5323339b-0def-4a19-8fe5-8b85bf0eb798",
   "metadata": {},
   "outputs": [],
   "source": [
    "numIterations = 10"
   ]
  },
  {
   "cell_type": "markdown",
   "id": "37e26565-ece2-4a20-96e3-c1a965e4d6ed",
   "metadata": {},
   "source": [
    "### 4 workers"
   ]
  },
  {
   "cell_type": "code",
   "execution_count": 20,
   "id": "cca41fc6-2356-4342-a530-cf75369b529f",
   "metadata": {},
   "outputs": [
    {
     "name": "stderr",
     "output_type": "stream",
     "text": [
      "22/03/20 08:51:13 WARN NioEventLoop: Selector.select() returned prematurely 512 times in a row; rebuilding Selector io.netty.channel.nio.SelectedSelectionKeySetSelector@4b4d7bde.\n",
      "                                                                                \r"
     ]
    },
    {
     "name": "stdout",
     "output_type": "stream",
     "text": [
      "[22.30652141571045, 21.538985013961792, 21.52507185935974, 20.62351107597351, 19.898587226867676, 23.068907022476196, 21.204931020736694, 24.00457000732422, 21.65461492538452, 21.78132939338684], Avg: 21.760702896118165, read: [5.2953948974609375, 5.186372995376587, 5.048182964324951, 5.061849355697632, 5.296099424362183, 5.896594524383545, 5.019148349761963, 5.176033973693848, 5.025819540023804, 5.209441900253296], AvgRead:5.221493792533875\n"
     ]
    }
   ],
   "source": [
    "inputUri = 'mongodb://127.0.0.1/million_songs.songsOHalfM'\n",
    "outputUri = 'mongodb://127.0.0.1/million_songs.songsOHalfM'\n",
    "appName = '4 workers'\n",
    "numCores = 12\n",
    "\n",
    "resultsW4 = []\n",
    "readT4 = []\n",
    "\n",
    "for i in range(numIterations):\n",
    "    ls = runExperiment(inputUri, outputUri, appName, numCores)\n",
    "    t = time.time()\n",
    "    d = calculation(ls[0], ls[1])\n",
    "    resultsW4.append(d)\n",
    "    readT4.append(ls[2])\n",
    "avgW4 = np.mean(resultsW4)\n",
    "avgR4 = np.mean(readT4)\n",
    "print(f'{resultsW4}, Avg: {avgW4}, read: {readT4}, AvgRead:{avgR4}')"
   ]
  },
  {
   "cell_type": "markdown",
   "id": "e6255872-decf-44fc-b8bb-bf586b0be3d6",
   "metadata": {},
   "source": [
    "### 5 workers"
   ]
  },
  {
   "cell_type": "code",
   "execution_count": 9,
   "id": "2eba082f-60df-47c9-85e6-6663785eca00",
   "metadata": {},
   "outputs": [
    {
     "name": "stderr",
     "output_type": "stream",
     "text": [
      "                                                                                \r"
     ]
    },
    {
     "name": "stdout",
     "output_type": "stream",
     "text": [
      "[20.71346926689148, 22.594167709350586, 21.160473585128784, 22.33843207359314, 20.30896806716919, 20.68993330001831, 22.078088760375977, 21.631627082824707, 20.828859090805054, 21.029708862304688], Avg: 21.33737277984619, read: [5.305450916290283, 5.832362651824951, 5.023281097412109, 5.22426176071167, 5.1512839794158936, 5.033323287963867, 4.967853784561157, 5.8576624393463135, 4.997884511947632, 5.1849892139434814], AvgRead:5.2578353643417355\n"
     ]
    }
   ],
   "source": [
    "inputUri = 'mongodb://127.0.0.1/million_songs.songsOHalfM'\n",
    "outputUri = 'mongodb://127.0.0.1/million_songs.songsOHalfM'\n",
    "appName = '5 workers'\n",
    "numCores = 14\n",
    "\n",
    "resultsW5 = []\n",
    "readT5 = []\n",
    "\n",
    "for i in range(numIterations):\n",
    "    ls = runExperiment(inputUri, outputUri, appName, numCores)\n",
    "    d = calculation(ls[0], ls[1])\n",
    "    resultsW5.append(d)\n",
    "    readT5.append(ls[2])\n",
    "avgW5 = np.mean(resultsW5)\n",
    "avgR5 = np.mean(readT5)\n",
    "print(f'{resultsW5}, Avg: {avgW5}, read: {readT5}, AvgRead:{avgR5}')"
   ]
  },
  {
   "cell_type": "markdown",
   "id": "25f662ba-985d-47ec-a0a9-fb61cf85b87f",
   "metadata": {},
   "source": [
    "### 6 workers"
   ]
  },
  {
   "cell_type": "code",
   "execution_count": 17,
   "id": "9979c19a-82e0-47c3-9adc-2ab0fedeb2be",
   "metadata": {},
   "outputs": [
    {
     "name": "stderr",
     "output_type": "stream",
     "text": [
      "                                                                                \r"
     ]
    },
    {
     "name": "stdout",
     "output_type": "stream",
     "text": [
      "[21.266408920288086, 23.37617826461792, 20.747185707092285, 21.288980960845947, 21.70623016357422, 21.287323236465454, 21.50190758705139, 22.570557117462158, 21.61768674850464, 20.601430416107178], Avg: 21.59638891220093, read: [5.1439268589019775, 5.60527777671814, 4.93609881401062, 5.196144104003906, 5.054734706878662, 5.0379955768585205, 5.203981161117554, 5.162667989730835, 5.100900173187256, 5.869917869567871], AvgRead:5.231164503097534\n"
     ]
    }
   ],
   "source": [
    "inputUri = 'mongodb://127.0.0.1/million_songs.songsOHalfM'\n",
    "outputUri = 'mongodb://127.0.0.1/million_songs.songsOHalfM'\n",
    "appName = '6 workers'\n",
    "numCores = 16\n",
    "\n",
    "resultsW6 = []\n",
    "readT6 = []\n",
    "\n",
    "for i in range(numIterations):\n",
    "    ls = runExperiment(inputUri, outputUri, appName, numCores)\n",
    "    d = calculation(ls[0], ls[1])\n",
    "    resultsW6.append(d)\n",
    "    readT6.append(ls[2])\n",
    "avgW6 = np.mean(resultsW6)\n",
    "avgR6 = np.mean(readT6)\n",
    "print(f'{resultsW6}, Avg: {avgW6}, read: {readT6}, AvgRead:{avgR6}')"
   ]
  },
  {
   "cell_type": "markdown",
   "id": "6e10f02f-0fec-4a84-a225-4f0afa506cf7",
   "metadata": {},
   "source": [
    "### Result"
   ]
  },
  {
   "cell_type": "code",
   "execution_count": 39,
   "id": "bb0a83fa-1a8e-4f1f-82d0-5a8951d5358a",
   "metadata": {},
   "outputs": [
    {
     "data": {
      "image/png": "[encoded data removed]",
      "text/plain": [
       "<Figure size 1080x360 with 2 Axes>"
      ]
     },
     "metadata": {
      "needs_background": "light"
     },
     "output_type": "display_data"
    }
   ],
   "source": [
    "resultsW4 = [22.30652141571045, 21.538985013961792, 21.52507185935974, 20.62351107597351, 19.898587226867676, 23.068907022476196, 21.204931020736694, 24.00457000732422, 21.65461492538452, 21.78132939338684]\n",
    "avgW4 = 21.760702896118165\n",
    "\n",
    "resultsW5 = [20.71346926689148, 22.594167709350586, 21.160473585128784, 22.33843207359314, 20.30896806716919, 20.68993330001831, 22.078088760375977, 21.631627082824707, 20.828859090805054, 21.029708862304688] \n",
    "avgW5 = 21.33737277984619\n",
    "\n",
    "resultsW6 = [21.266408920288086, 23.37617826461792, 20.747185707092285, 21.288980960845947, 21.70623016357422, 21.287323236465454, 21.50190758705139, 22.570557117462158, 21.61768674850464, 20.601430416107178]\n",
    "avgW6 = 21.59638891220093\n",
    "printResults([resultsW4, resultsW5, resultsW6],\n",
    "             ['4 workers', '5 workers', '6 workers'],\n",
    "             [avgW4, avgW5, avgW6], numIterations, \"Horizontal Scaling Results\", \"Number of workers\")"
   ]
  }
 ],
 "metadata": {
  "kernelspec": {
   "display_name": "Python 3 (ipykernel)",
   "language": "python",
   "name": "python3"
  },
  "language_info": {
   "codemirror_mode": {
    "name": "ipython",
    "version": 3
   },
   "file_extension": ".py",
   "mimetype": "text/x-python",
   "name": "python",
   "nbconvert_exporter": "python",
   "pygments_lexer": "ipython3",
   "version": "3.8.10"
  }
 },
 "nbformat": 4,
 "nbformat_minor": 5
}
